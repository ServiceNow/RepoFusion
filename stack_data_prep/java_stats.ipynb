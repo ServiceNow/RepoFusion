{
 "cells": [
  {
   "cell_type": "code",
   "execution_count": null,
   "id": "12d3d1fc-5c8b-457a-aba1-031a7c3df051",
   "metadata": {},
   "outputs": [],
   "source": [
    "from pathlib import Path\n",
    "from tqdm.auto import tqdm\n",
    "import shutil\n",
    "import pandas as pd\n",
    "import ray\n",
    "from toolkit_run.ray.server import LabRayToolkitServer\n",
    "import json"
   ]
  },
  {
   "cell_type": "code",
   "execution_count": null,
   "id": "08b108f0-344b-4d8f-8eea-ddb8dcdc8194",
   "metadata": {},
   "outputs": [],
   "source": [
    "server = LabRayToolkitServer()\n",
    "server.dashboard_url"
   ]
  },
  {
   "cell_type": "code",
   "execution_count": null,
   "id": "f2bbc2a6-6085-4440-b947-6358524df22c",
   "metadata": {
    "tags": []
   },
   "outputs": [],
   "source": [
    "server.scale_cluster(60)"
   ]
  },
  {
   "cell_type": "markdown",
   "id": "c46a6d22-a61d-4343-b713-ca6bb0d5c037",
   "metadata": {},
   "source": [
    "## Repos count and size of files for java"
   ]
  },
  {
   "cell_type": "code",
   "execution_count": null,
   "id": "50bcbcf3-aa6d-4851-ba97-5ca580af55b7",
   "metadata": {
    "tags": []
   },
   "outputs": [],
   "source": [
    "paths = list(Path('/data/hf_repos/the-stack-metadata').glob('data/*'))"
   ]
  },
  {
   "cell_type": "code",
   "execution_count": null,
   "id": "b970bb41-4b3e-4d34-b914-bafe7c36bf8a",
   "metadata": {},
   "outputs": [],
   "source": [
    "@ray.remote(scheduling_strategy=\"SPREAD\")\n",
    "def get_java_repos_stats(bucket_path):\n",
    "    df_fi = pd.read_parquet(\n",
    "        bucket_path / 'fi.parquet'\n",
    "    )\n",
    "    df_fi = df_fi[(df_fi['lang_ex'] == 'Java') & (df_fi['is_deleted'] == False)]\n",
    "    return df_fi['ri_id'].nunique(), df_fi['size'].sum()\n",
    "    \n",
    "    "
   ]
  },
  {
   "cell_type": "code",
   "execution_count": null,
   "id": "e8bf3cdc-232f-4d5f-83d1-041220a2cc81",
   "metadata": {},
   "outputs": [],
   "source": [
    "res = []\n",
    "for path in paths:\n",
    "    res += [get_java_repos_stats.remote(path)]\n"
   ]
  },
  {
   "cell_type": "code",
   "execution_count": null,
   "id": "934fabbb-6c28-44fd-84a5-6b9a26fe2280",
   "metadata": {},
   "outputs": [],
   "source": [
    "res = ray.get(res)"
   ]
  },
  {
   "cell_type": "code",
   "execution_count": null,
   "id": "8747af0b-b0f5-4241-b45c-9ef2c65ff0d5",
   "metadata": {},
   "outputs": [],
   "source": [
    "res = [sum(el) for el in list(zip(*res))]"
   ]
  },
  {
   "cell_type": "code",
   "execution_count": null,
   "id": "8af080de-bedd-491d-a197-428bcdc0967d",
   "metadata": {},
   "outputs": [],
   "source": [
    "print('count: ', res[0])\n",
    "print('size: ', res[1] / 1000000000000, 'Tb')"
   ]
  },
  {
   "cell_type": "markdown",
   "id": "6d376d57-9bf4-4684-8db7-a74b55df3833",
   "metadata": {},
   "source": [
    "## Dedup repo count and names by stars"
   ]
  },
  {
   "cell_type": "code",
   "execution_count": null,
   "id": "d049721d-951a-445f-b3c8-4ad3d7fadff1",
   "metadata": {},
   "outputs": [],
   "source": [
    "paths = list(Path('/data/hf_repos/the_stack_v1_1_near_dedup_parquet/data/java/').glob('*.parquet'))"
   ]
  },
  {
   "cell_type": "code",
   "execution_count": null,
   "id": "d3aabd81-922e-4882-91f7-8d714b419346",
   "metadata": {},
   "outputs": [],
   "source": [
    "df = pd.read_parquet(paths[0])"
   ]
  },
  {
   "cell_type": "code",
   "execution_count": null,
   "id": "b62d026f-cd96-4466-afe2-f6af9cb6f576",
   "metadata": {},
   "outputs": [],
   "source": [
    "df"
   ]
  },
  {
   "cell_type": "code",
   "execution_count": null,
   "id": "e0e64e83-2402-4971-8b09-54788157ac13",
   "metadata": {},
   "outputs": [],
   "source": [
    "len(set(df['max_stars_repo_name']))"
   ]
  },
  {
   "cell_type": "code",
   "execution_count": null,
   "id": "e792ab9b-1a72-45f5-8527-d20c2ea99f78",
   "metadata": {},
   "outputs": [],
   "source": [
    "@ray.remote(scheduling_strategy=\"SPREAD\")\n",
    "def get_java_repos_stats(bucket_filename):\n",
    "    df = pd.read_parquet(bucket_filename)\n",
    "    return set(df['max_stars_repo_name'])\n",
    "    "
   ]
  },
  {
   "cell_type": "code",
   "execution_count": null,
   "id": "0b194aec-8138-4375-9cdf-d9a4b426d1ea",
   "metadata": {},
   "outputs": [],
   "source": [
    "res = []\n",
    "for path in paths:\n",
    "    res += [get_java_repos_stats.remote(path)]"
   ]
  },
  {
   "cell_type": "code",
   "execution_count": null,
   "id": "cb3c9a34-3024-466d-a1d5-7c524844ca0b",
   "metadata": {},
   "outputs": [],
   "source": [
    "res = ray.get(res)"
   ]
  },
  {
   "cell_type": "code",
   "execution_count": null,
   "id": "42c72388-e76c-4b97-b433-f7edbd0608af",
   "metadata": {},
   "outputs": [],
   "source": [
    "repos = set().union(*res)"
   ]
  },
  {
   "cell_type": "code",
   "execution_count": null,
   "id": "aeb8c73f-ab8b-45a6-b0af-1e51629a19ed",
   "metadata": {},
   "outputs": [],
   "source": [
    "len(repos)"
   ]
  },
  {
   "cell_type": "markdown",
   "id": "9b27cc0e-917c-42b3-b837-b7458df3cf46",
   "metadata": {},
   "source": [
    "## Size of those repos"
   ]
  },
  {
   "cell_type": "code",
   "execution_count": null,
   "id": "3838e3a6-8cd6-413c-8f16-062047d16a88",
   "metadata": {},
   "outputs": [],
   "source": [
    "paths = list(Path('/data/hf_repos/the-stack-metadata').glob('data/*'))"
   ]
  },
  {
   "cell_type": "code",
   "execution_count": null,
   "id": "689473d8-1601-47ba-9ccf-ff1506169d62",
   "metadata": {},
   "outputs": [],
   "source": [
    "df_ri = pd.read_parquet(\n",
    "    paths[0] / 'ri.parquet'\n",
    ")\n",
    "ri_ids = set(df_ri[df_ri['name'].isin(repos)]['id'])\n",
    "df_fi = pd.read_parquet(\n",
    "    paths[0] / 'fi.parquet'\n",
    ")\n",
    "df_fi = df_fi[(df_fi['ri_id'].isin(ri_ids)) & (df_fi['lang_ex'] == 'Java') & (df_fi['is_deleted'] == False)]"
   ]
  },
  {
   "cell_type": "code",
   "execution_count": null,
   "id": "d6e18201-4dd2-44e6-85c7-c899663739ff",
   "metadata": {
    "tags": []
   },
   "outputs": [],
   "source": [
    "df_fi"
   ]
  },
  {
   "cell_type": "code",
   "execution_count": null,
   "id": "7da6387b-4dba-4d50-a2d0-54ca19b2a9db",
   "metadata": {},
   "outputs": [],
   "source": [
    "@ray.remote(scheduling_strategy=\"SPREAD\")\n",
    "def get_java_repos_stats(bucket_path, repos):\n",
    "    df_ri = pd.read_parquet(\n",
    "        bucket_path / 'ri.parquet'\n",
    "    )\n",
    "    ri_ids = set(df_ri[df_ri['name'].isin(repos)]['id'])\n",
    "    df_fi = pd.read_parquet(\n",
    "        bucket_path / 'fi.parquet'\n",
    "    )\n",
    "    df_fi = df_fi[(df_fi['ri_id'].isin(ri_ids)) & (df_fi['lang_ex'] == 'Java') & (df_fi['is_deleted'] == False)]\n",
    "    return df_fi['ri_id'].nunique(), df_fi['size'].sum(), len(df_fi)"
   ]
  },
  {
   "cell_type": "code",
   "execution_count": null,
   "id": "0aa257ef-9278-420b-9165-ab66aed804ff",
   "metadata": {},
   "outputs": [],
   "source": [
    "repos_ref = ray.put(repos)"
   ]
  },
  {
   "cell_type": "code",
   "execution_count": null,
   "id": "9e067c43-d594-4527-a67e-9ce36b711091",
   "metadata": {},
   "outputs": [],
   "source": [
    "res = []\n",
    "for path in paths:\n",
    "    res += [get_java_repos_stats.remote(path, repos_ref)]"
   ]
  },
  {
   "cell_type": "code",
   "execution_count": null,
   "id": "fe2337dd-c128-4faf-9d27-6af046b4aa01",
   "metadata": {},
   "outputs": [],
   "source": [
    "res = ray.get(res)"
   ]
  },
  {
   "cell_type": "code",
   "execution_count": null,
   "id": "7b8b13ae-eec5-43ac-b636-ac3d77e439b1",
   "metadata": {},
   "outputs": [],
   "source": [
    "res = [sum(el) for el in list(zip(*res))]"
   ]
  },
  {
   "cell_type": "code",
   "execution_count": null,
   "id": "72de4076-f9aa-47d5-9177-1a47af03b20b",
   "metadata": {},
   "outputs": [],
   "source": [
    "print('repos count: ', res[0])\n",
    "print('size: ', res[1] / 1000000000000, 'Tb')\n",
    "print('files count: ', res[2])"
   ]
  },
  {
   "cell_type": "code",
   "execution_count": null,
   "id": "b7153212-83ec-4690-98b6-ccd5aa28da2b",
   "metadata": {
    "tags": []
   },
   "outputs": [],
   "source": [
    "server.scale_cluster(0)"
   ]
  },
  {
   "cell_type": "markdown",
   "id": "cde5761f-1dfa-4e12-b2f8-7813677cc53b",
   "metadata": {},
   "source": [
    "## Assign and save repository to bucket mapping info"
   ]
  },
  {
   "cell_type": "code",
   "execution_count": null,
   "id": "f19d5e8e-5e25-48a7-889d-e1a2d4a194bd",
   "metadata": {},
   "outputs": [],
   "source": [
    "len(repos)"
   ]
  },
  {
   "cell_type": "code",
   "execution_count": null,
   "id": "ec4cd2ee-b76e-4b6c-bba3-7b7933afafe4",
   "metadata": {},
   "outputs": [],
   "source": [
    "usernames = set(el.split('/')[0] for el in repos)"
   ]
  },
  {
   "cell_type": "code",
   "execution_count": null,
   "id": "84d08597-3626-4abe-9241-5cadf0d68ec5",
   "metadata": {},
   "outputs": [],
   "source": [
    "len(usernames)"
   ]
  },
  {
   "cell_type": "code",
   "execution_count": null,
   "id": "546ecd95-8b82-4d9a-98fd-26842305238d",
   "metadata": {},
   "outputs": [],
   "source": [
    "repos = list(repos)"
   ]
  },
  {
   "cell_type": "code",
   "execution_count": null,
   "id": "4c552ec5-964d-4cf3-82cc-90e802ed86db",
   "metadata": {},
   "outputs": [],
   "source": [
    "repos.sort()"
   ]
  },
  {
   "cell_type": "code",
   "execution_count": null,
   "id": "67aabdf7-b010-4d4b-92a3-b8d0a91ca59e",
   "metadata": {},
   "outputs": [],
   "source": [
    "repo_2_bucket = {}\n",
    "for i, el in enumerate(repos):\n",
    "        repo_2_bucket[el] = i // 1000"
   ]
  },
  {
   "cell_type": "code",
   "execution_count": null,
   "id": "c9a98939-443d-4879-8727-1ee5a4850194",
   "metadata": {},
   "outputs": [],
   "source": [
    "repo_2_bucket[repos[-1]]"
   ]
  },
  {
   "cell_type": "code",
   "execution_count": null,
   "id": "8a767a47-2c2c-4f4f-9216-bd9144979737",
   "metadata": {},
   "outputs": [],
   "source": [
    "with open('/data/hf_repos/the-stak-repo-level/meta_data/java/repo_to_bucket.json', 'wt') as f:\n",
    "    json.dump(repo_2_bucket, f)"
   ]
  },
  {
   "cell_type": "code",
   "execution_count": null,
   "id": "78fd5fcc-0da8-4718-9462-b0b8830149a1",
   "metadata": {},
   "outputs": [],
   "source": []
  }
 ],
 "metadata": {
  "kernelspec": {
   "display_name": "Python 3 (ipykernel)",
   "language": "python",
   "name": "python3"
  },
  "language_info": {
   "codemirror_mode": {
    "name": "ipython",
    "version": 3
   },
   "file_extension": ".py",
   "mimetype": "text/x-python",
   "name": "python",
   "nbconvert_exporter": "python",
   "pygments_lexer": "ipython3",
   "version": "3.9.7"
  }
 },
 "nbformat": 4,
 "nbformat_minor": 5
}
