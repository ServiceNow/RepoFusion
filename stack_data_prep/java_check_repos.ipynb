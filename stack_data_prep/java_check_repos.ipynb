{
 "cells": [
  {
   "cell_type": "code",
   "execution_count": 1,
   "id": "1c1da28d-8712-48e5-9eb5-071dda10f881",
   "metadata": {},
   "outputs": [],
   "source": [
    "from pathlib import Path\n",
    "from tqdm.auto import tqdm\n",
    "import shutil\n",
    "import pandas as pd\n",
    "import ray\n",
    "from toolkit_run.ray.server import LabRayToolkitServer\n",
    "import json\n",
    "from collections import defaultdict"
   ]
  },
  {
   "cell_type": "code",
   "execution_count": 2,
   "id": "04296a19-a237-42c6-be71-a32f5a9ac066",
   "metadata": {},
   "outputs": [
    {
     "data": {
      "text/plain": [
       "'https://327b68c6-51de-4024-bef7-0afee15d5f68-8000.job.console.elementai.com'"
      ]
     },
     "execution_count": 2,
     "metadata": {},
     "output_type": "execute_result"
    }
   ],
   "source": [
    "server = LabRayToolkitServer()\n",
    "server.dashboard_url"
   ]
  },
  {
   "cell_type": "code",
   "execution_count": 3,
   "id": "ca812536-ecdf-436e-b67f-d71419b1372d",
   "metadata": {
    "tags": []
   },
   "outputs": [
    {
     "data": {
      "text/plain": [
       "'OK'"
      ]
     },
     "execution_count": 3,
     "metadata": {},
     "output_type": "execute_result"
    }
   ],
   "source": [
    "server.scale_cluster(60)"
   ]
  },
  {
   "cell_type": "code",
   "execution_count": 9,
   "id": "3329c872-1597-409e-982b-960810eeecb6",
   "metadata": {},
   "outputs": [],
   "source": [
    "server.shutdown()"
   ]
  },
  {
   "cell_type": "markdown",
   "id": "f4126aa9-f311-47be-9ff6-5acf1f57f63e",
   "metadata": {},
   "source": [
    "## Read 1K meta data"
   ]
  },
  {
   "cell_type": "code",
   "execution_count": 3,
   "id": "2f697059-d6e2-49de-93e1-a3966f5d430c",
   "metadata": {},
   "outputs": [],
   "source": [
    "the_stack_meta_path = Path('/data/hf_repos/the-stack-metadata')\n",
    "the_stack_path = Path('/data/hf_repos/the-stack-v1.1')"
   ]
  },
  {
   "cell_type": "code",
   "execution_count": 4,
   "id": "92a3099b-6e4f-43f5-ac97-0f010dd8cbff",
   "metadata": {},
   "outputs": [],
   "source": [
    "with open('/data/hf_repos/the-stak-repo-level/meta_data/java/1K_repo_2_bucket.json', 'rt') as f:\n",
    "    repo_2_bucket_1K = json.load(f)"
   ]
  },
  {
   "cell_type": "code",
   "execution_count": 5,
   "id": "ccca3414-9203-4fdc-863a-ae1f299a4018",
   "metadata": {},
   "outputs": [],
   "source": [
    "with open('/data/hf_repos/the-stak-repo-level/meta_data/java/1K_repos_commit_hashes.json', 'rt') as f:\n",
    "    repos_commit_hashes_1K = json.load(f)"
   ]
  },
  {
   "cell_type": "code",
   "execution_count": 6,
   "id": "a9836bd9-0546-4d65-ab19-714a1f7b1c66",
   "metadata": {},
   "outputs": [],
   "source": [
    "repos_commit_hashes_dst_buckets_1K = [(el[0], el[1], repo_2_bucket_1K[el[0]]) for el in repos_commit_hashes_1K]"
   ]
  },
  {
   "cell_type": "code",
   "execution_count": 7,
   "id": "4927e8f7-faab-446b-afeb-986f0bf8d6f9",
   "metadata": {},
   "outputs": [],
   "source": [
    "df_repos_commit_hashes_dst_buckets_1K = pd.DataFrame(\n",
    "    data=repos_commit_hashes_dst_buckets_1K, columns=['name', 'head_hexsha', 'dst_bucket']\n",
    ")"
   ]
  },
  {
   "cell_type": "code",
   "execution_count": 8,
   "id": "edc624f6-30d7-42f9-b3f8-ed1f8ef884a6",
   "metadata": {},
   "outputs": [
    {
     "data": {
      "text/html": [
       "<div>\n",
       "<style scoped>\n",
       "    .dataframe tbody tr th:only-of-type {\n",
       "        vertical-align: middle;\n",
       "    }\n",
       "\n",
       "    .dataframe tbody tr th {\n",
       "        vertical-align: top;\n",
       "    }\n",
       "\n",
       "    .dataframe thead th {\n",
       "        text-align: right;\n",
       "    }\n",
       "</style>\n",
       "<table border=\"1\" class=\"dataframe\">\n",
       "  <thead>\n",
       "    <tr style=\"text-align: right;\">\n",
       "      <th></th>\n",
       "      <th>name</th>\n",
       "      <th>head_hexsha</th>\n",
       "      <th>dst_bucket</th>\n",
       "    </tr>\n",
       "  </thead>\n",
       "  <tbody>\n",
       "    <tr>\n",
       "      <th>0</th>\n",
       "      <td>WendyOmollo/CaesarCipher</td>\n",
       "      <td>399d3aa6057ef43ac86eea5f4992085bd045a8fd</td>\n",
       "      <td>250</td>\n",
       "    </tr>\n",
       "    <tr>\n",
       "      <th>1</th>\n",
       "      <td>oktaykcr/bom-app-be</td>\n",
       "      <td>91df70f566814b32e3f1923547f4edadf88352cc</td>\n",
       "      <td>650</td>\n",
       "    </tr>\n",
       "    <tr>\n",
       "      <th>2</th>\n",
       "      <td>abbashus/sql</td>\n",
       "      <td>d81ef73c968b2ae7a9f52e362de294d4dec8e855</td>\n",
       "      <td>265</td>\n",
       "    </tr>\n",
       "    <tr>\n",
       "      <th>3</th>\n",
       "      <td>mryan/perl6-nqp</td>\n",
       "      <td>687e2f12c866ee1498229ac1ac234ff56b7d02b8</td>\n",
       "      <td>623</td>\n",
       "    </tr>\n",
       "    <tr>\n",
       "      <th>4</th>\n",
       "      <td>jMonkeyEngine-mirrors/iso-terrain-jayfella-github</td>\n",
       "      <td>7da9fb3d65de5e8ecfd6f1bce16b16f39de236ee</td>\n",
       "      <td>498</td>\n",
       "    </tr>\n",
       "    <tr>\n",
       "      <th>...</th>\n",
       "      <td>...</td>\n",
       "      <td>...</td>\n",
       "      <td>...</td>\n",
       "    </tr>\n",
       "    <tr>\n",
       "      <th>995</th>\n",
       "      <td>elsadeny/VideoEnabledWebView-1</td>\n",
       "      <td>74c2c56019016af7c0aba6e3cf43cddb940ba4ac</td>\n",
       "      <td>411</td>\n",
       "    </tr>\n",
       "    <tr>\n",
       "      <th>996</th>\n",
       "      <td>TengJunWei/butterknife</td>\n",
       "      <td>7c39e473efd501269a444f2e3d03184eb41d2d05</td>\n",
       "      <td>230</td>\n",
       "    </tr>\n",
       "    <tr>\n",
       "      <th>997</th>\n",
       "      <td>ModificationStation/StationAPI</td>\n",
       "      <td>a359af0c8e7f4467e56a5db78620b0b910f45a40</td>\n",
       "      <td>161</td>\n",
       "    </tr>\n",
       "    <tr>\n",
       "      <th>998</th>\n",
       "      <td>Mr-Frimman/Apotheosis-Fabric</td>\n",
       "      <td>ed2817ae54af41c99c927bfb2d8c1ce0132a8c0d</td>\n",
       "      <td>163</td>\n",
       "    </tr>\n",
       "    <tr>\n",
       "      <th>999</th>\n",
       "      <td>virgotong/java_learn</td>\n",
       "      <td>edbb331778ea31290c4b4f1edd5664d1029217e2</td>\n",
       "      <td>810</td>\n",
       "    </tr>\n",
       "  </tbody>\n",
       "</table>\n",
       "<p>1000 rows × 3 columns</p>\n",
       "</div>"
      ],
      "text/plain": [
       "                                                  name  \\\n",
       "0                             WendyOmollo/CaesarCipher   \n",
       "1                                  oktaykcr/bom-app-be   \n",
       "2                                         abbashus/sql   \n",
       "3                                      mryan/perl6-nqp   \n",
       "4    jMonkeyEngine-mirrors/iso-terrain-jayfella-github   \n",
       "..                                                 ...   \n",
       "995                     elsadeny/VideoEnabledWebView-1   \n",
       "996                             TengJunWei/butterknife   \n",
       "997                     ModificationStation/StationAPI   \n",
       "998                       Mr-Frimman/Apotheosis-Fabric   \n",
       "999                               virgotong/java_learn   \n",
       "\n",
       "                                  head_hexsha  dst_bucket  \n",
       "0    399d3aa6057ef43ac86eea5f4992085bd045a8fd         250  \n",
       "1    91df70f566814b32e3f1923547f4edadf88352cc         650  \n",
       "2    d81ef73c968b2ae7a9f52e362de294d4dec8e855         265  \n",
       "3    687e2f12c866ee1498229ac1ac234ff56b7d02b8         623  \n",
       "4    7da9fb3d65de5e8ecfd6f1bce16b16f39de236ee         498  \n",
       "..                                        ...         ...  \n",
       "995  74c2c56019016af7c0aba6e3cf43cddb940ba4ac         411  \n",
       "996  7c39e473efd501269a444f2e3d03184eb41d2d05         230  \n",
       "997  a359af0c8e7f4467e56a5db78620b0b910f45a40         161  \n",
       "998  ed2817ae54af41c99c927bfb2d8c1ce0132a8c0d         163  \n",
       "999  edbb331778ea31290c4b4f1edd5664d1029217e2         810  \n",
       "\n",
       "[1000 rows x 3 columns]"
      ]
     },
     "execution_count": 8,
     "metadata": {},
     "output_type": "execute_result"
    }
   ],
   "source": [
    "df_repos_commit_hashes_dst_buckets_1K"
   ]
  },
  {
   "cell_type": "code",
   "execution_count": 9,
   "id": "f5177c4c-c3be-4d5b-ad18-a940dec2c909",
   "metadata": {},
   "outputs": [],
   "source": [
    "file_list_1k = pd.read_parquet('/data/hf_repos/the-stak-repo-level/meta_data/java/1K_file_list.parquet')"
   ]
  },
  {
   "cell_type": "code",
   "execution_count": 12,
   "id": "d2a1d8ed-81a0-4c70-9657-22288ba8f83c",
   "metadata": {},
   "outputs": [
    {
     "data": {
      "text/html": [
       "<div>\n",
       "<style scoped>\n",
       "    .dataframe tbody tr th:only-of-type {\n",
       "        vertical-align: middle;\n",
       "    }\n",
       "\n",
       "    .dataframe tbody tr th {\n",
       "        vertical-align: top;\n",
       "    }\n",
       "\n",
       "    .dataframe thead th {\n",
       "        text-align: right;\n",
       "    }\n",
       "</style>\n",
       "<table border=\"1\" class=\"dataframe\">\n",
       "  <thead>\n",
       "    <tr style=\"text-align: right;\">\n",
       "      <th></th>\n",
       "      <th>hexsha</th>\n",
       "      <th>path</th>\n",
       "      <th>name</th>\n",
       "      <th>head_hexsha</th>\n",
       "      <th>dst_bucket</th>\n",
       "    </tr>\n",
       "  </thead>\n",
       "  <tbody>\n",
       "    <tr>\n",
       "      <th>388123</th>\n",
       "      <td>6a8fa90325c6fe21399be8c5d4514c099eddac05</td>\n",
       "      <td>src/main/java/n10s/skos/load/SkosImporter.java</td>\n",
       "      <td>dpb587/neosemantics</td>\n",
       "      <td>c968e28aca8f2f327a90dfeefac63756e19190bd</td>\n",
       "      <td>398.0</td>\n",
       "    </tr>\n",
       "    <tr>\n",
       "      <th>388124</th>\n",
       "      <td>0df86c5511198a7fb84bf270cab07fb5cf435893</td>\n",
       "      <td>src/main/java/n10s/result/GraphResult.java</td>\n",
       "      <td>dpb587/neosemantics</td>\n",
       "      <td>c968e28aca8f2f327a90dfeefac63756e19190bd</td>\n",
       "      <td>398.0</td>\n",
       "    </tr>\n",
       "    <tr>\n",
       "      <th>388125</th>\n",
       "      <td>4ce9ae926792bcfd8003e9e305b7f7e5dfc22eb5</td>\n",
       "      <td>src/main/java/n10s/result/NamespacePrefixesRes...</td>\n",
       "      <td>dpb587/neosemantics</td>\n",
       "      <td>c968e28aca8f2f327a90dfeefac63756e19190bd</td>\n",
       "      <td>398.0</td>\n",
       "    </tr>\n",
       "    <tr>\n",
       "      <th>388126</th>\n",
       "      <td>36f21d3259ae0961abcd953927dfee72c0c1c15a</td>\n",
       "      <td>src/main/java/n10s/result/NodeResult.java</td>\n",
       "      <td>dpb587/neosemantics</td>\n",
       "      <td>c968e28aca8f2f327a90dfeefac63756e19190bd</td>\n",
       "      <td>398.0</td>\n",
       "    </tr>\n",
       "    <tr>\n",
       "      <th>388127</th>\n",
       "      <td>ef7f02a529f48221ccef4c086e9f6e2da872ed5e</td>\n",
       "      <td>src/main/java/n10s/result/StreamedStatement.java</td>\n",
       "      <td>dpb587/neosemantics</td>\n",
       "      <td>c968e28aca8f2f327a90dfeefac63756e19190bd</td>\n",
       "      <td>398.0</td>\n",
       "    </tr>\n",
       "    <tr>\n",
       "      <th>...</th>\n",
       "      <td>...</td>\n",
       "      <td>...</td>\n",
       "      <td>...</td>\n",
       "      <td>...</td>\n",
       "      <td>...</td>\n",
       "    </tr>\n",
       "    <tr>\n",
       "      <th>212778</th>\n",
       "      <td>44b49a2073a14a2bb55ad0d9e38ccf608f2fc0c8</td>\n",
       "      <td>src/main/java/org/eclipse/microprofile/starter...</td>\n",
       "      <td>jim-krueger/microprofile-starter</td>\n",
       "      <td>8b7d80d52e61cb165719b165ba9305f6e4fe769c</td>\n",
       "      <td>514.0</td>\n",
       "    </tr>\n",
       "    <tr>\n",
       "      <th>212779</th>\n",
       "      <td>cc01b965f7cc8b1679569f7bd4eb87b1b3822f34</td>\n",
       "      <td>src/main/java/org/eclipse/microprofile/starter...</td>\n",
       "      <td>jim-krueger/microprofile-starter</td>\n",
       "      <td>8b7d80d52e61cb165719b165ba9305f6e4fe769c</td>\n",
       "      <td>514.0</td>\n",
       "    </tr>\n",
       "    <tr>\n",
       "      <th>212780</th>\n",
       "      <td>c608c7edcd1d0c99749638c147d80f6a392274ab</td>\n",
       "      <td>src/main/java/org/eclipse/microprofile/starter...</td>\n",
       "      <td>jim-krueger/microprofile-starter</td>\n",
       "      <td>8b7d80d52e61cb165719b165ba9305f6e4fe769c</td>\n",
       "      <td>514.0</td>\n",
       "    </tr>\n",
       "    <tr>\n",
       "      <th>212781</th>\n",
       "      <td>ca0a8134b4062cf041451573d6db7e26e27cb3c8</td>\n",
       "      <td>src/main/java/org/eclipse/microprofile/starter...</td>\n",
       "      <td>jim-krueger/microprofile-starter</td>\n",
       "      <td>8b7d80d52e61cb165719b165ba9305f6e4fe769c</td>\n",
       "      <td>514.0</td>\n",
       "    </tr>\n",
       "    <tr>\n",
       "      <th>212782</th>\n",
       "      <td>16395760aa852f39ab2440cf2eb2c66c7dc44903</td>\n",
       "      <td>src/main/java/org/eclipse/microprofile/starter...</td>\n",
       "      <td>jim-krueger/microprofile-starter</td>\n",
       "      <td>8b7d80d52e61cb165719b165ba9305f6e4fe769c</td>\n",
       "      <td>514.0</td>\n",
       "    </tr>\n",
       "  </tbody>\n",
       "</table>\n",
       "<p>232407 rows × 5 columns</p>\n",
       "</div>"
      ],
      "text/plain": [
       "                                          hexsha  \\\n",
       "388123  6a8fa90325c6fe21399be8c5d4514c099eddac05   \n",
       "388124  0df86c5511198a7fb84bf270cab07fb5cf435893   \n",
       "388125  4ce9ae926792bcfd8003e9e305b7f7e5dfc22eb5   \n",
       "388126  36f21d3259ae0961abcd953927dfee72c0c1c15a   \n",
       "388127  ef7f02a529f48221ccef4c086e9f6e2da872ed5e   \n",
       "...                                          ...   \n",
       "212778  44b49a2073a14a2bb55ad0d9e38ccf608f2fc0c8   \n",
       "212779  cc01b965f7cc8b1679569f7bd4eb87b1b3822f34   \n",
       "212780  c608c7edcd1d0c99749638c147d80f6a392274ab   \n",
       "212781  ca0a8134b4062cf041451573d6db7e26e27cb3c8   \n",
       "212782  16395760aa852f39ab2440cf2eb2c66c7dc44903   \n",
       "\n",
       "                                                     path  \\\n",
       "388123     src/main/java/n10s/skos/load/SkosImporter.java   \n",
       "388124         src/main/java/n10s/result/GraphResult.java   \n",
       "388125  src/main/java/n10s/result/NamespacePrefixesRes...   \n",
       "388126          src/main/java/n10s/result/NodeResult.java   \n",
       "388127   src/main/java/n10s/result/StreamedStatement.java   \n",
       "...                                                   ...   \n",
       "212778  src/main/java/org/eclipse/microprofile/starter...   \n",
       "212779  src/main/java/org/eclipse/microprofile/starter...   \n",
       "212780  src/main/java/org/eclipse/microprofile/starter...   \n",
       "212781  src/main/java/org/eclipse/microprofile/starter...   \n",
       "212782  src/main/java/org/eclipse/microprofile/starter...   \n",
       "\n",
       "                                    name  \\\n",
       "388123               dpb587/neosemantics   \n",
       "388124               dpb587/neosemantics   \n",
       "388125               dpb587/neosemantics   \n",
       "388126               dpb587/neosemantics   \n",
       "388127               dpb587/neosemantics   \n",
       "...                                  ...   \n",
       "212778  jim-krueger/microprofile-starter   \n",
       "212779  jim-krueger/microprofile-starter   \n",
       "212780  jim-krueger/microprofile-starter   \n",
       "212781  jim-krueger/microprofile-starter   \n",
       "212782  jim-krueger/microprofile-starter   \n",
       "\n",
       "                                     head_hexsha  dst_bucket  \n",
       "388123  c968e28aca8f2f327a90dfeefac63756e19190bd       398.0  \n",
       "388124  c968e28aca8f2f327a90dfeefac63756e19190bd       398.0  \n",
       "388125  c968e28aca8f2f327a90dfeefac63756e19190bd       398.0  \n",
       "388126  c968e28aca8f2f327a90dfeefac63756e19190bd       398.0  \n",
       "388127  c968e28aca8f2f327a90dfeefac63756e19190bd       398.0  \n",
       "...                                          ...         ...  \n",
       "212778  8b7d80d52e61cb165719b165ba9305f6e4fe769c       514.0  \n",
       "212779  8b7d80d52e61cb165719b165ba9305f6e4fe769c       514.0  \n",
       "212780  8b7d80d52e61cb165719b165ba9305f6e4fe769c       514.0  \n",
       "212781  8b7d80d52e61cb165719b165ba9305f6e4fe769c       514.0  \n",
       "212782  8b7d80d52e61cb165719b165ba9305f6e4fe769c       514.0  \n",
       "\n",
       "[232407 rows x 5 columns]"
      ]
     },
     "execution_count": 12,
     "metadata": {},
     "output_type": "execute_result"
    }
   ],
   "source": [
    "file_list_1k"
   ]
  },
  {
   "cell_type": "code",
   "execution_count": 16,
   "id": "7cb37ef4-d861-450a-be55-7dc7ff8ccf96",
   "metadata": {
    "tags": []
   },
   "outputs": [
    {
     "data": {
      "text/html": [
       "<div>\n",
       "<style scoped>\n",
       "    .dataframe tbody tr th:only-of-type {\n",
       "        vertical-align: middle;\n",
       "    }\n",
       "\n",
       "    .dataframe tbody tr th {\n",
       "        vertical-align: top;\n",
       "    }\n",
       "\n",
       "    .dataframe thead th {\n",
       "        text-align: right;\n",
       "    }\n",
       "</style>\n",
       "<table border=\"1\" class=\"dataframe\">\n",
       "  <thead>\n",
       "    <tr style=\"text-align: right;\">\n",
       "      <th></th>\n",
       "      <th></th>\n",
       "      <th>hexsha</th>\n",
       "    </tr>\n",
       "    <tr>\n",
       "      <th>name</th>\n",
       "      <th>head_hexsha</th>\n",
       "      <th></th>\n",
       "    </tr>\n",
       "  </thead>\n",
       "  <tbody>\n",
       "    <tr>\n",
       "      <th>01010101lzy/issual</th>\n",
       "      <th>9cdc972668fcc5aa4a6e8b4de72cfec92710248b</th>\n",
       "      <td>1</td>\n",
       "    </tr>\n",
       "    <tr>\n",
       "      <th>nikolvas/ads_y2021</th>\n",
       "      <th>26912cfd73a7ebfce9c3c3ac42648667258abd35</th>\n",
       "      <td>1</td>\n",
       "    </tr>\n",
       "    <tr>\n",
       "      <th>ZZL18/zzl</th>\n",
       "      <th>73131f4fccf33ae471100b0adacd35067cc56c73</th>\n",
       "      <td>1</td>\n",
       "    </tr>\n",
       "    <tr>\n",
       "      <th>nurdiansyah/SveltePress</th>\n",
       "      <th>832151b2ecc7cd009d5f8ad368aab1bb1feb4aab</th>\n",
       "      <td>1</td>\n",
       "    </tr>\n",
       "    <tr>\n",
       "      <th>oke-ya/CCNativeExtensionTemplate</th>\n",
       "      <th>413c04a3531543766c1e3ff51938134ffa16f43a</th>\n",
       "      <td>1</td>\n",
       "    </tr>\n",
       "    <tr>\n",
       "      <th>...</th>\n",
       "      <th>...</th>\n",
       "      <td>...</td>\n",
       "    </tr>\n",
       "    <tr>\n",
       "      <th>smouelhi/tutorials</th>\n",
       "      <th>8a5d9843f6e7ee86a8f7bb142f3dfce5f47d1068</th>\n",
       "      <td>7706</td>\n",
       "    </tr>\n",
       "    <tr>\n",
       "      <th>slhmy/trino</th>\n",
       "      <th>5e4760102ce500ca4bd102a370bcb4fbf8812809</th>\n",
       "      <td>8281</td>\n",
       "    </tr>\n",
       "    <tr>\n",
       "      <th>Diffblue-benchmarks/Elastic-elasticsearch</th>\n",
       "      <th>93f3d12c759f63c12f6e773cfc514345627a4c16</th>\n",
       "      <td>11097</td>\n",
       "    </tr>\n",
       "    <tr>\n",
       "      <th>duhongming1990/tutorials</th>\n",
       "      <th>07c8d21852540dceb05ac11579e518819c18d4cf</th>\n",
       "      <td>14692</td>\n",
       "    </tr>\n",
       "    <tr>\n",
       "      <th>bainian12345/azure-sdk-for-java</th>\n",
       "      <th>926de5b40a197c7bcb20af794e6dba8525a3f74f</th>\n",
       "      <td>27543</td>\n",
       "    </tr>\n",
       "  </tbody>\n",
       "</table>\n",
       "<p>1000 rows × 1 columns</p>\n",
       "</div>"
      ],
      "text/plain": [
       "                                                                                    hexsha\n",
       "name                                      head_hexsha                                     \n",
       "01010101lzy/issual                        9cdc972668fcc5aa4a6e8b4de72cfec92710248b       1\n",
       "nikolvas/ads_y2021                        26912cfd73a7ebfce9c3c3ac42648667258abd35       1\n",
       "ZZL18/zzl                                 73131f4fccf33ae471100b0adacd35067cc56c73       1\n",
       "nurdiansyah/SveltePress                   832151b2ecc7cd009d5f8ad368aab1bb1feb4aab       1\n",
       "oke-ya/CCNativeExtensionTemplate          413c04a3531543766c1e3ff51938134ffa16f43a       1\n",
       "...                                                                                    ...\n",
       "smouelhi/tutorials                        8a5d9843f6e7ee86a8f7bb142f3dfce5f47d1068    7706\n",
       "slhmy/trino                               5e4760102ce500ca4bd102a370bcb4fbf8812809    8281\n",
       "Diffblue-benchmarks/Elastic-elasticsearch 93f3d12c759f63c12f6e773cfc514345627a4c16   11097\n",
       "duhongming1990/tutorials                  07c8d21852540dceb05ac11579e518819c18d4cf   14692\n",
       "bainian12345/azure-sdk-for-java           926de5b40a197c7bcb20af794e6dba8525a3f74f   27543\n",
       "\n",
       "[1000 rows x 1 columns]"
      ]
     },
     "execution_count": 16,
     "metadata": {},
     "output_type": "execute_result"
    }
   ],
   "source": [
    "file_list_1k[['name', 'head_hexsha', 'hexsha']].groupby(['name', 'head_hexsha']).count().sort_values('hexsha')"
   ]
  },
  {
   "cell_type": "code",
   "execution_count": 19,
   "id": "496d10aa-e422-4085-873c-158cb96f7d86",
   "metadata": {},
   "outputs": [
    {
     "data": {
      "text/html": [
       "<div>\n",
       "<style scoped>\n",
       "    .dataframe tbody tr th:only-of-type {\n",
       "        vertical-align: middle;\n",
       "    }\n",
       "\n",
       "    .dataframe tbody tr th {\n",
       "        vertical-align: top;\n",
       "    }\n",
       "\n",
       "    .dataframe thead th {\n",
       "        text-align: right;\n",
       "    }\n",
       "</style>\n",
       "<table border=\"1\" class=\"dataframe\">\n",
       "  <thead>\n",
       "    <tr style=\"text-align: right;\">\n",
       "      <th></th>\n",
       "      <th>hexsha</th>\n",
       "      <th>path</th>\n",
       "      <th>name</th>\n",
       "      <th>head_hexsha</th>\n",
       "      <th>dst_bucket</th>\n",
       "    </tr>\n",
       "  </thead>\n",
       "  <tbody>\n",
       "    <tr>\n",
       "      <th>138197</th>\n",
       "      <td>1e1d32c0dcafb04ee9dcc03b7a5eb4a693c5d025</td>\n",
       "      <td>proj.android/java/src/com/oke_ya/CCNativeExten...</td>\n",
       "      <td>oke-ya/CCNativeExtensionTemplate</td>\n",
       "      <td>413c04a3531543766c1e3ff51938134ffa16f43a</td>\n",
       "      <td>650.0</td>\n",
       "    </tr>\n",
       "  </tbody>\n",
       "</table>\n",
       "</div>"
      ],
      "text/plain": [
       "                                          hexsha  \\\n",
       "138197  1e1d32c0dcafb04ee9dcc03b7a5eb4a693c5d025   \n",
       "\n",
       "                                                     path  \\\n",
       "138197  proj.android/java/src/com/oke_ya/CCNativeExten...   \n",
       "\n",
       "                                    name  \\\n",
       "138197  oke-ya/CCNativeExtensionTemplate   \n",
       "\n",
       "                                     head_hexsha  dst_bucket  \n",
       "138197  413c04a3531543766c1e3ff51938134ffa16f43a       650.0  "
      ]
     },
     "execution_count": 19,
     "metadata": {},
     "output_type": "execute_result"
    }
   ],
   "source": [
    "file_list_1k[file_list_1k['name'] == 'oke-ya/CCNativeExtensionTemplate']"
   ]
  },
  {
   "cell_type": "markdown",
   "id": "4d6acc5c-a264-4090-a1a7-68a64460607f",
   "metadata": {},
   "source": [
    "## Test results"
   ]
  },
  {
   "cell_type": "code",
   "execution_count": 4,
   "id": "5ae4af85-56bf-4a1a-86a0-51269a9c9c8e",
   "metadata": {
    "tags": []
   },
   "outputs": [
    {
     "data": {
      "application/vnd.jupyter.widget-view+json": {
       "model_id": "e102fd1ca9d84397a33069436a007f64",
       "version_major": 2,
       "version_minor": 0
      },
      "text/plain": [
       "  0%|          | 0/232407 [00:00<?, ?it/s]"
      ]
     },
     "metadata": {},
     "output_type": "display_data"
    }
   ],
   "source": [
    "missing = []\n",
    "dst_root = Path('/data/hf_repos/the-stak-repo-level/data/java')\n",
    "for i, row_file_list in tqdm(file_list_1k.iterrows(), total=len(file_list)):\n",
    "    dst_path = (\n",
    "        dst_root / str(int(row_file_list['dst_bucket'])) / row_file_list['name'] /\n",
    "        row_file_list['head_hexsha'] /  row_file_list['path']\n",
    "    )\n",
    "    if not dst_path.is_file():\n",
    "        missing.append(dst_path)"
   ]
  },
  {
   "cell_type": "code",
   "execution_count": 5,
   "id": "2538db8c-0713-4646-9acc-97cacd80cfcc",
   "metadata": {},
   "outputs": [
    {
     "data": {
      "text/plain": [
       "246"
      ]
     },
     "execution_count": 5,
     "metadata": {},
     "output_type": "execute_result"
    }
   ],
   "source": [
    "len(missing)"
   ]
  },
  {
   "cell_type": "code",
   "execution_count": 54,
   "id": "dcf80d35-38b3-435f-8b32-b7cf37a0fc61",
   "metadata": {},
   "outputs": [],
   "source": [
    "lic = pd.read_parquet('/dataset/repositories_zipped2_logs/indexes/repo_info/df_2022-01-24_all_licenses_no_vanity/lic/data-0.parquet')\n",
    "ri = pd.read_parquet('/dataset/repositories_zipped2_logs/indexes/repo_info/df_2022-01-24_all_licenses_no_vanity/ri/data-0.parquet')\n",
    "fi = pd.read_parquet('/dataset/repositories_zipped2_logs/indexes/repo_info/df_2022-01-24_all_licenses_no_vanity/fi/data-0.parquet')"
   ]
  },
  {
   "cell_type": "code",
   "execution_count": 47,
   "id": "f4df71a3-fd19-41ae-855a-130083a48300",
   "metadata": {},
   "outputs": [
    {
     "data": {
      "text/plain": [
       "2044"
      ]
     },
     "execution_count": 47,
     "metadata": {},
     "output_type": "execute_result"
    }
   ],
   "source": [
    "lic['ri_id'].nunique()"
   ]
  },
  {
   "cell_type": "code",
   "execution_count": 55,
   "id": "cefcd064-8d9e-4e01-96f2-6adb590941e5",
   "metadata": {},
   "outputs": [],
   "source": [
    "lic.loc[lic['file'].isna(), 'file'] = 'None'\n",
    "idx = lic.groupby([\"ri_id\", 'file'])['confidence'].transform(max) == lic['confidence']\n",
    "lic1 = lic[idx]\n",
    "lic1 = lic1.groupby('ri_id').apply(lambda x: list(set(x['license']))).to_frame('licenses')\n"
   ]
  },
  {
   "cell_type": "code",
   "execution_count": 56,
   "id": "1a9d0c74-6c28-4022-82a7-6fb4a5a73439",
   "metadata": {},
   "outputs": [],
   "source": [
    "ri1 = ri.merge(lic1, left_on='id', right_on='ri_id', how='right')"
   ]
  },
  {
   "cell_type": "code",
   "execution_count": 57,
   "id": "e66c22d2-87d4-4856-afa6-34e44b64dae7",
   "metadata": {},
   "outputs": [],
   "source": [
    "fi = fi[fi['lang_ex'] == 'Java']\n",
    "fi1 = fi.merge(ri1, left_on='ri_id', right_on='id', how='inner')"
   ]
  },
  {
   "cell_type": "code",
   "execution_count": 62,
   "id": "b91d739e-de86-4aac-b61f-da4c8255b3c2",
   "metadata": {},
   "outputs": [],
   "source": [
    "assert fi1['ri_id'].nunique() == fi['ri_id'].nunique()"
   ]
  },
  {
   "cell_type": "code",
   "execution_count": 63,
   "id": "3ed3f9e4-0d1c-4e04-84be-8ede4d457310",
   "metadata": {},
   "outputs": [
    {
     "data": {
      "text/plain": [
       "187"
      ]
     },
     "execution_count": 63,
     "metadata": {},
     "output_type": "execute_result"
    }
   ],
   "source": [
    "fi['ri_id'].nunique()"
   ]
  },
  {
   "cell_type": "code",
   "execution_count": null,
   "id": "cac9f9cc-c188-4670-ab4b-94dac14c3f4d",
   "metadata": {},
   "outputs": [],
   "source": []
  }
 ],
 "metadata": {
  "kernelspec": {
   "display_name": "Python 3 (ipykernel)",
   "language": "python",
   "name": "python3"
  },
  "language_info": {
   "codemirror_mode": {
    "name": "ipython",
    "version": 3
   },
   "file_extension": ".py",
   "mimetype": "text/x-python",
   "name": "python",
   "nbconvert_exporter": "python",
   "pygments_lexer": "ipython3",
   "version": "3.9.7"
  }
 },
 "nbformat": 4,
 "nbformat_minor": 5
}
