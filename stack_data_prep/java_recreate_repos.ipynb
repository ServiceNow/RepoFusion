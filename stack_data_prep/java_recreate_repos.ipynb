{
 "cells": [
  {
   "cell_type": "code",
   "execution_count": null,
   "id": "1c1da28d-8712-48e5-9eb5-071dda10f881",
   "metadata": {},
   "outputs": [],
   "source": [
    "from pathlib import Path\n",
    "from tqdm.auto import tqdm\n",
    "import shutil\n",
    "import pandas as pd\n",
    "import ray\n",
    "from toolkit_run.ray.server import LabRayToolkitServer\n",
    "import json\n",
    "from collections import defaultdict"
   ]
  },
  {
   "cell_type": "code",
   "execution_count": null,
   "id": "04296a19-a237-42c6-be71-a32f5a9ac066",
   "metadata": {},
   "outputs": [],
   "source": [
    "server = LabRayToolkitServer()\n",
    "server.dashboard_url"
   ]
  },
  {
   "cell_type": "code",
   "execution_count": null,
   "id": "ca812536-ecdf-436e-b67f-d71419b1372d",
   "metadata": {
    "tags": []
   },
   "outputs": [],
   "source": [
    "server.scale_cluster(60)"
   ]
  },
  {
   "cell_type": "code",
   "execution_count": null,
   "id": "3329c872-1597-409e-982b-960810eeecb6",
   "metadata": {
    "tags": []
   },
   "outputs": [],
   "source": [
    "server.shutdown()"
   ]
  },
  {
   "cell_type": "markdown",
   "id": "06d6bc4e-de3c-4297-b526-a442fb12b13b",
   "metadata": {},
   "source": [
    "## Create Unique near dedup file list per repository and commit"
   ]
  },
  {
   "cell_type": "code",
   "execution_count": null,
   "id": "000a0ffc-6ca0-4086-96c8-70c5fcdf487c",
   "metadata": {},
   "outputs": [],
   "source": [
    "with open('/data/hf_repos/the-stak-repo-level/meta_data/java/repo_to_bucket.json', 'rt') as f:\n",
    "    repo_2_bucket = json.load(f)"
   ]
  },
  {
   "cell_type": "code",
   "execution_count": null,
   "id": "55e16d9d-1b8f-4acd-9edb-4ae537d8f597",
   "metadata": {},
   "outputs": [],
   "source": [
    "paths = list(Path('/data/hf_repos/the_stack_v1_1_near_dedup_parquet/data/java/').glob('*.parquet'))"
   ]
  },
  {
   "cell_type": "code",
   "execution_count": null,
   "id": "5bca183f-b915-4d90-a0b9-dc33e1953f2d",
   "metadata": {},
   "outputs": [],
   "source": [
    "@ray.remote(scheduling_strategy=\"SPREAD\")\n",
    "def get_java_repos_paths(bucket_filename):\n",
    "    df = pd.read_parquet(bucket_filename)\n",
    "    return df[['max_stars_repo_name', 'max_stars_repo_head_hexsha', 'max_stars_repo_path']]"
   ]
  },
  {
   "cell_type": "code",
   "execution_count": null,
   "id": "2f7a9c91-d1db-4a83-b0a5-42c111ea462d",
   "metadata": {},
   "outputs": [],
   "source": [
    "res = []\n",
    "for path in paths:\n",
    "    res += [get_java_repos_paths.remote(path)]"
   ]
  },
  {
   "cell_type": "code",
   "execution_count": null,
   "id": "f306d196-8bf6-4a73-8f49-02ee36a0501b",
   "metadata": {},
   "outputs": [],
   "source": [
    "res = ray.get(res)"
   ]
  },
  {
   "cell_type": "code",
   "execution_count": null,
   "id": "0223edb2-d9a5-4c5d-bac3-287ecf69c13b",
   "metadata": {},
   "outputs": [],
   "source": [
    "res = pd.concat(res)"
   ]
  },
  {
   "cell_type": "code",
   "execution_count": null,
   "id": "4dbdc4f2-11ad-4d36-b92a-62137471bb65",
   "metadata": {},
   "outputs": [],
   "source": [
    "res"
   ]
  },
  {
   "cell_type": "code",
   "execution_count": null,
   "id": "bc97946c-3b90-4ecc-8cf5-8e11dcf49567",
   "metadata": {},
   "outputs": [],
   "source": [
    "groupes = res.groupby(['max_stars_repo_name', 'max_stars_repo_head_hexsha'])"
   ]
  },
  {
   "cell_type": "code",
   "execution_count": null,
   "id": "afea9650-dfd1-46ea-bc41-8d9beaa6da01",
   "metadata": {},
   "outputs": [],
   "source": [
    "near_dedup_unique_files_by_repo_commit = defaultdict(lambda : defaultdict(list))\n",
    "for key, gr in tqdm(groupes):\n",
    "    near_dedup_unique_files_by_repo_commit[key[0]][key[1]] = list(gr['max_stars_repo_path'])"
   ]
  },
  {
   "cell_type": "code",
   "execution_count": null,
   "id": "c53a37ca-6ade-47ba-b2f1-6237272db17d",
   "metadata": {
    "tags": []
   },
   "outputs": [],
   "source": [
    "bucket_to_repo = defaultdict(list)\n",
    "for k, v in repo_2_bucket.items():\n",
    "    bucket_to_repo[v].append(k)"
   ]
  },
  {
   "cell_type": "code",
   "execution_count": null,
   "id": "e28037b1-911f-4db8-8fde-ae9357cd1fd5",
   "metadata": {
    "tags": []
   },
   "outputs": [],
   "source": [
    "for bucket, repos in tqdm(bucket_to_repo.items()):\n",
    "    data = defaultdict(lambda : defaultdict(list))\n",
    "    for repo in repos:\n",
    "        for commit, files in near_dedup_unique_files_by_repo_commit[repo].items():\n",
    "            data[repo][commit] = files\n",
    "    path = Path(f'/data/hf_repos/the-stak-repo-level/meta_data/java/{bucket}')\n",
    "    path.mkdir(parents=True, exist_ok=True)\n",
    "    with open(path / 'near_dedup_unique_files_by_repo_commit.json', 'wt') as f:\n",
    "        json.dump(data, f)"
   ]
  },
  {
   "cell_type": "markdown",
   "id": "b206e5b0-4cc7-4d4e-9de3-e1b4d8686484",
   "metadata": {},
   "source": [
    "## Select subset of 1K repos"
   ]
  },
  {
   "cell_type": "code",
   "execution_count": null,
   "id": "d2f8c588-397c-4cfd-8de4-221b567c825a",
   "metadata": {},
   "outputs": [],
   "source": [
    "res1 = res.groupby(['max_stars_repo_name', 'max_stars_repo_head_hexsha']).count()"
   ]
  },
  {
   "cell_type": "code",
   "execution_count": null,
   "id": "aceb99dc-2cdb-4708-9761-e3fc19b998a4",
   "metadata": {
    "tags": []
   },
   "outputs": [],
   "source": [
    "res1  = res1[res1['max_stars_repo_path'] >= 20].reset_index()"
   ]
  },
  {
   "cell_type": "code",
   "execution_count": null,
   "id": "bdf6ae37-3466-446f-bc2e-11f081faed00",
   "metadata": {
    "tags": []
   },
   "outputs": [],
   "source": [
    "res1"
   ]
  },
  {
   "cell_type": "code",
   "execution_count": null,
   "id": "963cfece-5fee-4229-a8f3-26fb0276f3eb",
   "metadata": {
    "tags": []
   },
   "outputs": [],
   "source": [
    "repos_hashes = list(res1[['max_stars_repo_name', 'max_stars_repo_head_hexsha']].drop_duplicates().values)"
   ]
  },
  {
   "cell_type": "code",
   "execution_count": null,
   "id": "40c9c016-58c9-4b1c-b204-7ed7fc95f0d1",
   "metadata": {},
   "outputs": [],
   "source": [
    "import random\n",
    "random.seed(42)\n",
    "repos_commit_hashes_1K = random.sample(repos_hashes, k=1000)"
   ]
  },
  {
   "cell_type": "code",
   "execution_count": null,
   "id": "87e422ec-4139-4383-b423-ab2ebef85191",
   "metadata": {},
   "outputs": [],
   "source": [
    "for i in range(len(repos_commit_hashes_1K)):\n",
    "    repos_commit_hashes_1K[i] = list(repos_commit_hashes_1K[i])\n",
    "with open('/data/hf_repos/the-stak-repo-level/meta_data/java/1K_20plus_repos_commit_hashes.json', 'wt') as f:\n",
    "    json.dump(repos_commit_hashes_1K, f)"
   ]
  },
  {
   "cell_type": "code",
   "execution_count": null,
   "id": "cce93001-56cb-4259-b293-c7454b6c1390",
   "metadata": {},
   "outputs": [],
   "source": [
    "near_dedup_unique_files_by_repo_commit_1K = defaultdict(lambda : defaultdict(list))\n",
    "for el in repos_commit_hashes_1K:\n",
    "    near_dedup_unique_files_by_repo_commit_1K[el[0]][el[1]] = near_dedup_unique_files_by_repo_commit[el[0]][el[1]]\n",
    "with open('/data/hf_repos/the-stak-repo-level/meta_data/java/1K_20plus_near_dedup_unique_files_by_repo_commit.json', 'wt') as f:\n",
    "        json.dump(near_dedup_unique_files_by_repo_commit_1K, f)"
   ]
  },
  {
   "cell_type": "code",
   "execution_count": null,
   "id": "22d31ca4-8164-404b-9147-23904d2d0783",
   "metadata": {},
   "outputs": [],
   "source": [
    "repo_2_bucket_1K = dict()\n",
    "for el in repos_commit_hashes_1K:\n",
    "    repo_2_bucket_1K[el[0]] = repo_2_bucket[el[0]]\n",
    "with open('/data/hf_repos/the-stak-repo-level/meta_data/java/1K_20plus_repo_2_bucket.json', 'wt') as f:\n",
    "        json.dump(repo_2_bucket_1K, f)"
   ]
  },
  {
   "cell_type": "markdown",
   "id": "f4126aa9-f311-47be-9ff6-5acf1f57f63e",
   "metadata": {},
   "source": [
    "## Build file list for selected repos"
   ]
  },
  {
   "cell_type": "code",
   "execution_count": null,
   "id": "2f697059-d6e2-49de-93e1-a3966f5d430c",
   "metadata": {},
   "outputs": [],
   "source": [
    "the_stack_meta_path = Path('/data/hf_repos/the-stack-metadata')\n",
    "the_stack_path = Path('/data/hf_repos/the-stack-v1.1')"
   ]
  },
  {
   "cell_type": "code",
   "execution_count": null,
   "id": "92a3099b-6e4f-43f5-ac97-0f010dd8cbff",
   "metadata": {},
   "outputs": [],
   "source": [
    "with open('/data/hf_repos/the-stak-repo-level/meta_data/java/1K_20plus_repo_2_bucket.json', 'rt') as f:\n",
    "    repo_2_bucket_1K = json.load(f)"
   ]
  },
  {
   "cell_type": "code",
   "execution_count": null,
   "id": "ccca3414-9203-4fdc-863a-ae1f299a4018",
   "metadata": {},
   "outputs": [],
   "source": [
    "with open('/data/hf_repos/the-stak-repo-level/meta_data/java/1K_20plus_repos_commit_hashes.json', 'rt') as f:\n",
    "    repos_commit_hashes_1K = json.load(f)"
   ]
  },
  {
   "cell_type": "code",
   "execution_count": null,
   "id": "a9836bd9-0546-4d65-ab19-714a1f7b1c66",
   "metadata": {},
   "outputs": [],
   "source": [
    "repos_commit_hashes_dst_buckets_1K = [(el[0], el[1], repo_2_bucket_1K[el[0]]) for el in repos_commit_hashes_1K]"
   ]
  },
  {
   "cell_type": "code",
   "execution_count": null,
   "id": "4927e8f7-faab-446b-afeb-986f0bf8d6f9",
   "metadata": {},
   "outputs": [],
   "source": [
    "df_repos_commit_hashes_dst_buckets_1K = pd.DataFrame(\n",
    "    data=repos_commit_hashes_dst_buckets_1K, columns=['name', 'head_hexsha', 'dst_bucket']\n",
    ")"
   ]
  },
  {
   "cell_type": "code",
   "execution_count": null,
   "id": "edc624f6-30d7-42f9-b3f8-ed1f8ef884a6",
   "metadata": {},
   "outputs": [],
   "source": [
    "df_repos_commit_hashes_dst_buckets_1K"
   ]
  },
  {
   "cell_type": "code",
   "execution_count": null,
   "id": "6be8bce5-c650-4722-8092-d304459c1ee3",
   "metadata": {},
   "outputs": [],
   "source": [
    "files_info = []\n",
    "for fn in tqdm(list((the_stack_meta_path/'data').glob('*/ri.parquet'))):\n",
    "    df = pd.read_parquet(fn)\n",
    "    res = df_repos_commit_hashes_dst_buckets_1K.merge(\n",
    "        right=df, on = ['name', 'head_hexsha'], how='left'\n",
    "    )\n",
    "    res = res[res['id'].notna()][['name', 'head_hexsha', 'dst_bucket', 'id']]\n",
    "    if len(res) == 0:\n",
    "        continue\n",
    "    files_info.append((fn.parent.name, res))\n"
   ]
  },
  {
   "cell_type": "code",
   "execution_count": null,
   "id": "6fe69e78-63df-43cd-bc03-b11cc251b7ed",
   "metadata": {},
   "outputs": [],
   "source": [
    "@ray.remote(scheduling_strategy=\"SPREAD\")\n",
    "def get_files(src_root, info):\n",
    "    src_root = Path(src_root)\n",
    "    bucket = info[0]\n",
    "    res = info[1]\n",
    "    df_fi = pd.read_parquet(src_root / bucket / 'fi.parquet')\n",
    "    df_fi = df_fi[(df_fi['size'] > 0) & (df_fi['is_deleted'] == False) & (df_fi['lang_ex'] == 'Java')]\n",
    "    \n",
    "    df_fi = df_fi.merge(res, left_on='ri_id', right_on='id', how='left').dropna()[['hexsha', 'path', 'name', 'head_hexsha', 'dst_bucket']]\n",
    "    return df_fi"
   ]
  },
  {
   "cell_type": "code",
   "execution_count": null,
   "id": "6830bbb3-5932-497c-bd1a-fdeaaf4b55db",
   "metadata": {},
   "outputs": [],
   "source": [
    "res =[]\n",
    "for info in files_info:\n",
    "    res.append(get_files.remote(the_stack_meta_path/'data', info))"
   ]
  },
  {
   "cell_type": "code",
   "execution_count": null,
   "id": "394e55f9-edad-4a74-861e-137bb6712944",
   "metadata": {
    "tags": []
   },
   "outputs": [],
   "source": [
    "while True:\n",
    "    a, b = ray.wait(res, num_returns=len(res), fetch_local=False, timeout=10)\n",
    "    print(len(b), 'of', len(res))\n",
    "    if len(b) == 0:\n",
    "        break"
   ]
  },
  {
   "cell_type": "code",
   "execution_count": null,
   "id": "b134cdac-f7a4-4624-bd38-2a37bbeac5b1",
   "metadata": {},
   "outputs": [],
   "source": [
    "res = ray.get(res)"
   ]
  },
  {
   "cell_type": "code",
   "execution_count": null,
   "id": "686f1dd1-5bbb-4ef8-b846-de091d22e764",
   "metadata": {},
   "outputs": [],
   "source": [
    "res = pd.concat(res)"
   ]
  },
  {
   "cell_type": "code",
   "execution_count": null,
   "id": "f5177c4c-c3be-4d5b-ad18-a940dec2c909",
   "metadata": {},
   "outputs": [],
   "source": [
    "res.to_parquet('/data/hf_repos/the-stak-repo-level/meta_data/java/1K_20plus_file_list.parquet')"
   ]
  },
  {
   "cell_type": "code",
   "execution_count": null,
   "id": "7cb37ef4-d861-450a-be55-7dc7ff8ccf96",
   "metadata": {
    "tags": []
   },
   "outputs": [],
   "source": [
    "res"
   ]
  },
  {
   "cell_type": "markdown",
   "id": "5b6c545d-c267-4a25-a04a-a721ebe026c6",
   "metadata": {},
   "source": [
    "## Recreate those 1K repos from the file list"
   ]
  },
  {
   "cell_type": "code",
   "execution_count": null,
   "id": "422536ac-cb04-40d5-8917-3fd701d83999",
   "metadata": {},
   "outputs": [],
   "source": [
    "@ray.remote(scheduling_strategy=\"SPREAD\")\n",
    "def recreate_from_the_stack_bucket(bucket_fn, dst_root, file_list_fn):\n",
    "    dst_root = Path(dst_root)\n",
    "    file_list = pd.read_parquet(file_list_fn)\n",
    "    data = pd.read_parquet(bucket_fn)\n",
    "    hashes = set(file_list['hexsha'])\n",
    "    data = data[data['hexsha'].isin(hashes)]\n",
    "    for i, row_data in data.iterrows():\n",
    "        for j, row_file_list in file_list[file_list['hexsha'] == row_data['hexsha']].iterrows():\n",
    "            dst_path = (\n",
    "                dst_root / str(int(row_file_list['dst_bucket'])) / row_file_list['name'] /\n",
    "                row_file_list['head_hexsha'] /  row_file_list['path']\n",
    "            )\n",
    "            dst_path.parent.mkdir(parents=True, exist_ok=True)\n",
    "            dst_path.write_text(row_data['content'])"
   ]
  },
  {
   "cell_type": "code",
   "execution_count": null,
   "id": "6de90711-a573-4f47-991c-86e2e14c9192",
   "metadata": {},
   "outputs": [],
   "source": [
    "paths = list((the_stack_path / 'data' / 'java').glob('*.parquet'))"
   ]
  },
  {
   "cell_type": "code",
   "execution_count": null,
   "id": "65ea11e9-8dc0-45c7-97e9-0ae6961e088a",
   "metadata": {},
   "outputs": [],
   "source": [
    "res = []\n",
    "for path in paths:\n",
    "    res.append(recreate_from_the_stack_bucket.remote(\n",
    "        path,\n",
    "        '/data/hf_repos/the-stak-repo-level/data/java',\n",
    "        '/data/hf_repos/the-stak-repo-level/meta_data/java/1K_20plus_file_list.parquet'\n",
    "    ))"
   ]
  },
  {
   "cell_type": "code",
   "execution_count": null,
   "id": "957909f4-44f3-42fc-b700-1e5e35ab8677",
   "metadata": {},
   "outputs": [],
   "source": [
    "while True:\n",
    "    a, b = ray.wait(res, num_returns=len(res), fetch_local=False, timeout=10)\n",
    "    print(len(b), 'of', len(res))\n",
    "    if len(b) == 0:\n",
    "        break"
   ]
  },
  {
   "cell_type": "code",
   "execution_count": null,
   "id": "80e0058d-5b5b-4cee-ae2f-9063b4fe0b29",
   "metadata": {
    "tags": []
   },
   "outputs": [],
   "source": [
    "res = ray.get(res)"
   ]
  },
  {
   "cell_type": "markdown",
   "id": "4d6acc5c-a264-4090-a1a7-68a64460607f",
   "metadata": {},
   "source": [
    "## Test results"
   ]
  },
  {
   "cell_type": "code",
   "execution_count": null,
   "id": "9000f4e1-379e-457a-9796-b3dc8b187fdf",
   "metadata": {
    "tags": []
   },
   "outputs": [],
   "source": [
    "file_list = pd.read_parquet('/data/hf_repos/the-stak-repo-level/meta_data/java/1K_file_list.parquet')\n"
   ]
  },
  {
   "cell_type": "code",
   "execution_count": null,
   "id": "5ae4af85-56bf-4a1a-86a0-51269a9c9c8e",
   "metadata": {
    "tags": []
   },
   "outputs": [],
   "source": [
    "missing = []\n",
    "dst_root = Path('/data/hf_repos/the-stak-repo-level/data/java')\n",
    "for i, row_file_list in tqdm(file_list.iterrows(), total=len(file_list)):\n",
    "    dst_path = (\n",
    "        dst_root / str(int(row_file_list['dst_bucket'])) / row_file_list['name'] /\n",
    "        row_file_list['head_hexsha'] /  row_file_list['path']\n",
    "    )\n",
    "    if not dst_path.is_file():\n",
    "        missing.append(dst_path)"
   ]
  },
  {
   "cell_type": "code",
   "execution_count": null,
   "id": "2538db8c-0713-4646-9acc-97cacd80cfcc",
   "metadata": {},
   "outputs": [],
   "source": [
    "len(missing)"
   ]
  },
  {
   "cell_type": "code",
   "execution_count": null,
   "id": "dcf80d35-38b3-435f-8b32-b7cf37a0fc61",
   "metadata": {},
   "outputs": [],
   "source": []
  }
 ],
 "metadata": {
  "kernelspec": {
   "display_name": "Python 3 (ipykernel)",
   "language": "python",
   "name": "python3"
  },
  "language_info": {
   "codemirror_mode": {
    "name": "ipython",
    "version": 3
   },
   "file_extension": ".py",
   "mimetype": "text/x-python",
   "name": "python",
   "nbconvert_exporter": "python",
   "pygments_lexer": "ipython3",
   "version": "3.9.7"
  }
 },
 "nbformat": 4,
 "nbformat_minor": 5
}
