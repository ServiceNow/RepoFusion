{
 "cells": [
  {
   "cell_type": "code",
   "execution_count": null,
   "id": "2661c24b-5793-4674-9b9b-160e5bc5f928",
   "metadata": {},
   "outputs": [],
   "source": [
    "%load_ext autoreload\n",
    "%autoreload 2"
   ]
  },
  {
   "cell_type": "code",
   "execution_count": 1,
   "id": "971d4f99-dfc3-45ec-9052-5d82a19f15c3",
   "metadata": {},
   "outputs": [],
   "source": [
    "import os\n",
    "import pickle\n",
    "from pathlib import Path\n",
    "from transformers import GPT2TokenizerFast"
   ]
  },
  {
   "cell_type": "code",
   "execution_count": 2,
   "id": "778d3aa2-9288-4504-8d6a-c24d5a2777f4",
   "metadata": {},
   "outputs": [
    {
     "data": {
      "text/plain": [
       "'/home/toolkit/code/'"
      ]
     },
     "execution_count": 2,
     "metadata": {},
     "output_type": "execute_result"
    }
   ],
   "source": [
    "# need to had been set to root of all code repos, like '/home/toolkit/code/'\n",
    "os.environ['PYTHONPATH']"
   ]
  },
  {
   "cell_type": "code",
   "execution_count": 3,
   "id": "b1214b90-2bfe-4efd-9748-e5854d63df11",
   "metadata": {},
   "outputs": [],
   "source": [
    "from repo_training_codellm.repo_context_prep.generate_hole_and_repo_contexts import getAllRulesContexts "
   ]
  },
  {
   "cell_type": "code",
   "execution_count": 12,
   "id": "6684de95-48dc-4273-8ff7-f2f40edcece1",
   "metadata": {},
   "outputs": [],
   "source": [
    "base_dir = Path('/repo_data/repo_preprocessed_data/')\n",
    "data_split = 'train'\n",
    "repo_name = 'phongcui1510'\n",
    "rule_context_len = 2000"
   ]
  },
  {
   "cell_type": "code",
   "execution_count": 8,
   "id": "22b115ca-916e-4209-95dc-fd5253ac2f28",
   "metadata": {},
   "outputs": [],
   "source": [
    "input_data_dir = base_dir / data_split / repo_name\n",
    "\n",
    "#get stored parsed data\n",
    "parsed_data_filename = input_data_dir / 'parsed_data'\n",
    "with parsed_data_filename.open('rb') as f:\n",
    "    parse_data = pickle.load(f)\n",
    "    \n",
    "\n",
    "#get the holes\n",
    "hole_filename = input_data_dir / 'hole_data'\n",
    "with hole_filename.open('rb') as f:\n",
    "    hole_data = pickle.load(f)\n"
   ]
  },
  {
   "cell_type": "code",
   "execution_count": 9,
   "id": "292e03ee-6811-4280-b4bc-a789da020124",
   "metadata": {},
   "outputs": [],
   "source": [
    "files = list(input_data_dir.rglob('*.java'))"
   ]
  },
  {
   "cell_type": "code",
   "execution_count": 13,
   "id": "5172fe9b-27a3-4ddc-b6c2-82efb179e8b6",
   "metadata": {},
   "outputs": [],
   "source": [
    "tokenizer = GPT2TokenizerFast.from_pretrained(\"gpt2\")\n",
    "all_rule_context_obj = getAllRulesContexts(\n",
    "    parse_data=parse_data,\n",
    "    tokenizer=tokenizer,\n",
    "    rule_context_len=rule_context_len\n",
    ")"
   ]
  },
  {
   "cell_type": "code",
   "execution_count": 23,
   "id": "2555ef65-6576-432b-ad0a-d3327592bb00",
   "metadata": {},
   "outputs": [],
   "source": [
    "file = next(iter(hole_data.keys()))"
   ]
  },
  {
   "cell_type": "code",
   "execution_count": 29,
   "id": "b4f15439-0a01-4854-924c-e6fa0e9fac49",
   "metadata": {},
   "outputs": [],
   "source": [
    "l, c = hole_data[file][0]\n",
    "hole_pos = l, c\n",
    "hole_context, target_hole = all_rule_context_obj.get_hole_context(file, hole_pos)"
   ]
  },
  {
   "cell_type": "code",
   "execution_count": 31,
   "id": "3722afbf-1c29-4ba7-b4d6-8bc4a6ece4c8",
   "metadata": {},
   "outputs": [
    {
     "data": {
      "text/plain": [
       "'\\nimport com.icommerce.product.service.shared.Constants;\\nimport org.springframework.context.annotation.Configuration;\\nimport org.springframework.security.config.annotation.web.builders.HttpSecurity;\\nimport org.springframework.security.config.annotation.web.builders.WebSecurity;\\n package com.icommerce.'"
      ]
     },
     "execution_count": 31,
     "metadata": {},
     "output_type": "execute_result"
    }
   ],
   "source": [
    "hole_context"
   ]
  },
  {
   "cell_type": "code",
   "execution_count": 32,
   "id": "924f4ac7-e912-4249-9aff-3941685de2dd",
   "metadata": {},
   "outputs": [
    {
     "data": {
      "text/plain": [
       "'product.configuration;\\n'"
      ]
     },
     "execution_count": 32,
     "metadata": {},
     "output_type": "execute_result"
    }
   ],
   "source": [
    "target_hole"
   ]
  },
  {
   "cell_type": "code",
   "execution_count": 33,
   "id": "930bb7ca-118b-483d-99af-a47ec82a66d9",
   "metadata": {},
   "outputs": [],
   "source": [
    "rule_contexts, rule_context_locations = all_rule_context_obj.get_rule_contexts(file, hole_pos)"
   ]
  },
  {
   "cell_type": "code",
   "execution_count": 36,
   "id": "3eac82d4-4bc0-4690-90ef-f9dd66c1e7c4",
   "metadata": {},
   "outputs": [
    {
     "data": {
      "text/plain": [
       "63"
      ]
     },
     "execution_count": 36,
     "metadata": {},
     "output_type": "execute_result"
    }
   ],
   "source": [
    "len(rule_contexts)"
   ]
  },
  {
   "cell_type": "code",
   "execution_count": 37,
   "id": "5ad213da-1196-4fe5-bd54-2ccc711b7450",
   "metadata": {},
   "outputs": [
    {
     "data": {
      "text/plain": [
       "['in_file',\n",
       " 'in_file',\n",
       " 'in_file',\n",
       " 'in_file',\n",
       " 'in_file',\n",
       " 'in_file',\n",
       " 'in_file',\n",
       " 'in_file',\n",
       " 'parent_class_file',\n",
       " 'parent_class_file',\n",
       " 'parent_class_file',\n",
       " 'parent_class_file',\n",
       " 'parent_class_file',\n",
       " 'parent_class_file',\n",
       " 'import_file',\n",
       " 'import_file',\n",
       " 'import_file',\n",
       " 'import_file',\n",
       " 'import_file',\n",
       " 'import_file',\n",
       " 'sibling_file',\n",
       " 'sibling_file',\n",
       " 'sibling_file',\n",
       " 'sibling_file',\n",
       " 'sibling_file',\n",
       " 'sibling_file',\n",
       " 'similar_name_file',\n",
       " 'similar_name_file',\n",
       " 'similar_name_file',\n",
       " 'similar_name_file',\n",
       " 'similar_name_file',\n",
       " 'similar_name_file',\n",
       " 'child_class_file',\n",
       " 'child_class_file',\n",
       " 'child_class_file',\n",
       " 'child_class_file',\n",
       " 'child_class_file',\n",
       " 'child_class_file',\n",
       " 'import_of_sibling_file',\n",
       " 'import_of_sibling_file',\n",
       " 'import_of_sibling_file',\n",
       " 'import_of_sibling_file',\n",
       " 'import_of_sibling_file',\n",
       " 'import_of_sibling_file',\n",
       " 'import_of_similar_name_file',\n",
       " 'import_of_similar_name_file',\n",
       " 'import_of_similar_name_file',\n",
       " 'import_of_similar_name_file',\n",
       " 'import_of_similar_name_file',\n",
       " 'import_of_similar_name_file',\n",
       " 'import_of_parent_class_file',\n",
       " 'import_of_parent_class_file',\n",
       " 'import_of_parent_class_file',\n",
       " 'import_of_parent_class_file',\n",
       " 'import_of_parent_class_file',\n",
       " 'import_of_parent_class_file',\n",
       " 'import_of_child_class_file',\n",
       " 'import_of_child_class_file',\n",
       " 'import_of_child_class_file',\n",
       " 'import_of_child_class_file',\n",
       " 'import_of_child_class_file',\n",
       " 'import_of_child_class_file',\n",
       " 'current_file']"
      ]
     },
     "execution_count": 37,
     "metadata": {},
     "output_type": "execute_result"
    }
   ],
   "source": [
    "rule_context_locations"
   ]
  },
  {
   "cell_type": "markdown",
   "id": "96bfef57-b62e-49f8-95f4-eaa1cc7f9586",
   "metadata": {},
   "source": [
    "## Explore generated samples (holes)"
   ]
  },
  {
   "cell_type": "code",
   "execution_count": null,
   "id": "2f1bf4d7-2070-41b9-a61b-e9b37dcac997",
   "metadata": {},
   "outputs": [],
   "source": [
    "from tqdm.auto import tqdm\n",
    "import numpy as np\n",
    "import matplotlib.pyplot as plt"
   ]
  },
  {
   "cell_type": "code",
   "execution_count": null,
   "id": "03cad726-dc8b-42f6-bee5-154cd908c0b5",
   "metadata": {},
   "outputs": [],
   "source": [
    "files = list(Path('/repo_data/repo_preprocessed_data/train/').glob('*/*.json'))\n",
    "data = []\n",
    "for file in tqdm(files):\n",
    "    with file.open('rt') as f:\n",
    "        while True:\n",
    "            try:\n",
    "                line = f.readline()\n",
    "                if line is None or len(line) == 0:\n",
    "                    break\n",
    "                data.append(json.loads(line))\n",
    "            except Exception:\n",
    "                break"
   ]
  },
  {
   "cell_type": "code",
   "execution_count": null,
   "id": "f218328a-21bf-495a-9c93-8aab5c65e2c4",
   "metadata": {},
   "outputs": [],
   "source": [
    "stats_ctxs_len = [len(el['text']) for cdata in data for el in cdata['ctxs']]"
   ]
  },
  {
   "cell_type": "code",
   "execution_count": null,
   "id": "aa6d8be4-10e4-496d-80b8-aad9d6fad638",
   "metadata": {},
   "outputs": [],
   "source": [
    "hist, bins = np.histogram(stats_ctxs_len, [0, 1, 10, 100, 1000, 10000, 100000, 1000000])"
   ]
  },
  {
   "cell_type": "code",
   "execution_count": null,
   "id": "f7462b8f-562f-41e1-aed1-fb7cca0ac3ee",
   "metadata": {},
   "outputs": [],
   "source": [
    "s = sum(hist[1:])\n",
    "for i in range (len(hist)):\n",
    "    if i == 0: continue\n",
    "    print(f'count: {hist[i]},  percentage: {(hist[i]/s*100):.02f}%, text length range chars: [{bins[i]}:{bins[i+1]-1}]')"
   ]
  },
  {
   "cell_type": "code",
   "execution_count": null,
   "id": "87937ee5-b798-48a8-aa80-c25529d466c2",
   "metadata": {},
   "outputs": [],
   "source": [
    "bins_ctx_lenght = bins[1:]\n",
    "hist_ctx_length = hist[1:]\n",
    "ress = plt.hist(bins_ctx_lenght[:-1], bins_ctx_lenght, weights=hist_ctx_length)\n",
    "plt.xscale('log')\n",
    "plt.title('Lenght of non empty contexts')"
   ]
  },
  {
   "cell_type": "code",
   "execution_count": null,
   "id": "37e1f00e-aa46-4ded-ab6b-5712c24cc38b",
   "metadata": {},
   "outputs": [],
   "source": [
    "stats_ctxs_count = [sum(len(el['text']) != 0 for el in cdata['ctxs']) for cdata in data]"
   ]
  },
  {
   "cell_type": "code",
   "execution_count": null,
   "id": "f0009abc-dd61-4f4b-8239-8cfec641cd6b",
   "metadata": {},
   "outputs": [],
   "source": [
    "hist, bins = np.histogram(stats_ctxs_count, [0, 1, 10, 20, 30, 40, 50, 64])"
   ]
  },
  {
   "cell_type": "code",
   "execution_count": null,
   "id": "9e17c51a-f3dc-414c-bce9-19ac4b8e4009",
   "metadata": {},
   "outputs": [],
   "source": [
    "s = sum(hist[1:])\n",
    "for i in range (len(hist)):\n",
    "    if i == 0: continue\n",
    "    print(f'count: {hist[i]},  percentage: {(hist[i]/s*100):.02f}%, count range: [{bins[i]}:{bins[i+1]-1}]')"
   ]
  },
  {
   "cell_type": "code",
   "execution_count": null,
   "id": "73f7e1b7-0f41-4153-bce0-d713f8272b39",
   "metadata": {},
   "outputs": [],
   "source": [
    "ress = plt.hist(bins[:-1], bins, weights=hist)\n",
    "plt.title('Number of non empty contexts per sample')"
   ]
  }
 ],
 "metadata": {
  "kernelspec": {
   "display_name": "Python 3 (ipykernel)",
   "language": "python",
   "name": "python3"
  },
  "language_info": {
   "codemirror_mode": {
    "name": "ipython",
    "version": 3
   },
   "file_extension": ".py",
   "mimetype": "text/x-python",
   "name": "python",
   "nbconvert_exporter": "python",
   "pygments_lexer": "ipython3",
   "version": "3.9.16"
  }
 },
 "nbformat": 4,
 "nbformat_minor": 5
}
