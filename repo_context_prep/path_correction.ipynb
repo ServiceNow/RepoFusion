{
 "cells": [
  {
   "cell_type": "code",
   "execution_count": 1,
   "metadata": {},
   "outputs": [
    {
     "name": "stdout",
     "output_type": "stream",
     "text": [
      "train\n",
      "repo_stats.txt\n",
      "test\n",
      "val\n"
     ]
    }
   ],
   "source": [
    "import os\n",
    "import pickle\n",
    "\n",
    "def correct_path(orig_path):\n",
    "    return orig_path.replace('/home/toolkit/', '/repo_data/')\n",
    "\n",
    "\n",
    "base_dir = '/repo_data/repo_preprocessed_data/'\n",
    "data_splits = os.listdir(base_dir)\n",
    "for data_split in data_splits:\n",
    "    print(data_split)\n",
    "    if data_split == 'repo_stats.txt':\n",
    "        continue\n",
    "    projects = os.listdir(os.path.join(base_dir, data_split))\n",
    "    for proj in projects:\n",
    "        proj_dir = os.path.join(base_dir, data_split, proj)\n",
    "        data = pickle.load(open(os.path.join(proj_dir, 'file_class_data'), 'rb'))\n",
    "        mod_data = {}\n",
    "        for k, v in data.items():\n",
    "            mod_data[correct_path(k)] = v\n",
    "        pickle.dump(mod_data, open(os.path.join(proj_dir, 'file_class_data'), 'wb'))\n",
    "        # mod_data = {}\n",
    "        # for k, v in data.items():\n",
    "        #     mod_k = correct_path(k)\n",
    "        #     mod_v = []\n",
    "        #     for i, j in v.items():\n",
    "        #         mod_i = correct_path(i)\n",
    "        #         mod_v.append((mod_i, j))\n",
    "        #pickle.dump(mod_data, open(os.path.join(proj_dir, 'parsed_data_mod'), 'wb'))\n",
    "        # if os.path.exists(os.path.join(proj_dir, 'parsed_data_mod')):\n",
    "        #     os.remove(os.path.join(proj_dir, 'parsed_data_mod'))\n",
    "\n"
   ]
  },
  {
   "cell_type": "code",
   "execution_count": 10,
   "metadata": {},
   "outputs": [],
   "source": [
    "base_dir = '/repo_data/repo_preprocessed_data/'\n",
    "data_splits = os.listdir(base_dir)\n",
    "for data_split in data_splits:\n",
    "    if data_split == 'repo_stats.txt':\n",
    "        continue\n",
    "    for proj in os.listdir(os.path.join(base_dir, data_split)):\n",
    "        proj_dir = os.path.join(base_dir, data_split, proj)\n",
    "        data = pickle.load(open(os.path.join(proj_dir, 'hole_data'), 'rb'))\n",
    "        all_paths = list(data.keys())\n",
    "        for path in all_paths:\n",
    "            assert path.startswith('/repo_data/')"
   ]
  }
 ],
 "metadata": {
  "kernelspec": {
   "display_name": "Python 3.10.9 ('repo_training')",
   "language": "python",
   "name": "python3"
  },
  "language_info": {
   "codemirror_mode": {
    "name": "ipython",
    "version": 3
   },
   "file_extension": ".py",
   "mimetype": "text/x-python",
   "name": "python",
   "nbconvert_exporter": "python",
   "pygments_lexer": "ipython3",
   "version": "3.10.9"
  },
  "orig_nbformat": 4,
  "vscode": {
   "interpreter": {
    "hash": "49e378f172a8b46bf57800d0ac0bac4fc1e6ce253c9f8cab86c0c50488e70be3"
   }
  }
 },
 "nbformat": 4,
 "nbformat_minor": 2
}
