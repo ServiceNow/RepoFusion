{
 "cells": [
  {
   "cell_type": "markdown",
   "id": "d5c1a477-3674-4757-885a-0704b1e15cf7",
   "metadata": {},
   "source": [
    "https://medium.com/nlplanet/a-full-guide-to-finetuning-t5-for-text2text-and-building-a-demo-with-streamlit-c72009631887"
   ]
  },
  {
   "cell_type": "code",
   "execution_count": null,
   "id": "c1514c12-6826-4f8a-a6fc-ae7a92d7b2e3",
   "metadata": {},
   "outputs": [],
   "source": [
    "import transformers\n",
    "from datasets import load_dataset, load_metric"
   ]
  },
  {
   "cell_type": "code",
   "execution_count": null,
   "id": "1783252f-3e94-49eb-b965-1792a98f8978",
   "metadata": {},
   "outputs": [],
   "source": [
    "transformers.set_seed(42)"
   ]
  },
  {
   "cell_type": "code",
   "execution_count": null,
   "id": "ce8c6dd3-ba73-4c73-9818-0600d3e01791",
   "metadata": {},
   "outputs": [],
   "source": [
    "medium_datasets = load_dataset(\"csv\", data_files=\"/home/toolkit/data/medium_articles.csv\")"
   ]
  },
  {
   "cell_type": "code",
   "execution_count": null,
   "id": "636a4b9c-2463-4259-a0d2-911c8875fbcb",
   "metadata": {},
   "outputs": [],
   "source": [
    "datasets_train_test = medium_datasets[\"train\"].train_test_split(test_size=3000)\n",
    "datasets_train_validation = datasets_train_test[\"train\"].train_test_split(test_size=3000)\n",
    "\n",
    "medium_datasets[\"train\"] = datasets_train_validation[\"train\"]\n",
    "medium_datasets[\"validation\"] = datasets_train_validation[\"test\"]\n",
    "medium_datasets[\"test\"] = datasets_train_test[\"test\"]"
   ]
  },
  {
   "cell_type": "code",
   "execution_count": null,
   "id": "ae29a790-e11b-4062-9d72-051da8e1c879",
   "metadata": {},
   "outputs": [],
   "source": [
    "medium_datasets"
   ]
  },
  {
   "cell_type": "code",
   "execution_count": null,
   "id": "ee3fcb2b-79d8-4849-8703-1e5e0c92b965",
   "metadata": {},
   "outputs": [],
   "source": [
    "import nltk\n",
    "nltk.download('punkt')\n",
    "import string\n",
    "\n",
    "\n",
    "from transformers import AutoTokenizer\n",
    "\n",
    "model_checkpoint = \"t5-base\"\n",
    "tokenizer = AutoTokenizer.from_pretrained(model_checkpoint)"
   ]
  },
  {
   "cell_type": "code",
   "execution_count": null,
   "id": "ea51f283-19f2-4242-9310-f2b358f91ed0",
   "metadata": {},
   "outputs": [],
   "source": [
    "medium_datasets_cleaned = medium_datasets.filter(\n",
    "    lambda example: (len(example['text']) >= 500) and\n",
    "    (len(example['title']) >= 20)\n",
    ")"
   ]
  },
  {
   "cell_type": "code",
   "execution_count": null,
   "id": "ccf0809e-7aa1-4a36-82fa-25b4fc2f9111",
   "metadata": {},
   "outputs": [],
   "source": [
    "prefix = \"summarize: \"\n",
    "max_input_length = 512\n",
    "max_target_length = 64\n",
    "\n",
    "def clean_text(text):\n",
    "    sentences = nltk.sent_tokenize(text.strip())\n",
    "    sentences_cleaned = [s for sent in sentences for s in sent.split(\"\\n\")]\n",
    "    sentences_cleaned_no_titles = [sent for sent in sentences_cleaned\n",
    "                                 if len(sent) > 0 and\n",
    "                                 sent[-1] in string.punctuation]\n",
    "    text_cleaned = \"\\n\".join(sentences_cleaned_no_titles)\n",
    "    return text_cleaned\n",
    "\n",
    "def preprocess_data(examples):\n",
    "    texts_cleaned = [clean_text(text) for text in examples[\"text\"]]\n",
    "    inputs = [prefix + text for text in texts_cleaned]\n",
    "    model_inputs = tokenizer(inputs, max_length=max_input_length, truncation=True)\n",
    "\n",
    "    # Setup the tokenizer for targets\n",
    "    with tokenizer.as_target_tokenizer():\n",
    "        labels = tokenizer(\n",
    "            examples[\"title\"], max_length=max_target_length, \n",
    "            truncation=True\n",
    "        )\n",
    "\n",
    "    model_inputs[\"labels\"] = labels[\"input_ids\"]\n",
    "    return model_inputs"
   ]
  },
  {
   "cell_type": "code",
   "execution_count": null,
   "id": "98791acf-5c2e-41f6-8b8a-abc639d3750f",
   "metadata": {},
   "outputs": [],
   "source": [
    "tokenized_datasets = medium_datasets_cleaned.map(\n",
    "    preprocess_data,\n",
    "    batched=True,\n",
    "    num_proc = 7,\n",
    ")"
   ]
  },
  {
   "cell_type": "code",
   "execution_count": null,
   "id": "a4bee813-e175-4b51-86e7-3b51565f4df2",
   "metadata": {},
   "outputs": [],
   "source": [
    "tokenized_datasets['train'][:2]"
   ]
  },
  {
   "cell_type": "code",
   "execution_count": null,
   "id": "3a1fd1d8-92e5-4ba1-930c-7c2e7f67af31",
   "metadata": {},
   "outputs": [],
   "source": [
    "from transformers import AutoModelForSeq2SeqLM, DataCollatorForSeq2Seq, Seq2SeqTrainingArguments, Seq2SeqTrainer"
   ]
  },
  {
   "cell_type": "code",
   "execution_count": null,
   "id": "3201b16a-9836-40cb-b4b1-f0aa2bcffd51",
   "metadata": {},
   "outputs": [],
   "source": [
    "batch_size = 8\n",
    "model_name = \"t5-base-medium-title-generation\"\n",
    "model_dir = f\"/home/toolkit/turorial_t5/{model_name}\"\n",
    "\n",
    "args = Seq2SeqTrainingArguments(\n",
    "    model_dir,\n",
    "    evaluation_strategy=\"steps\",\n",
    "    eval_steps=100,\n",
    "    logging_strategy=\"steps\",\n",
    "    logging_steps=100,\n",
    "    save_strategy=\"steps\",\n",
    "    save_steps=200,\n",
    "    learning_rate=4e-5,\n",
    "    per_device_train_batch_size=batch_size,\n",
    "    per_device_eval_batch_size=batch_size,\n",
    "    weight_decay=0.01,\n",
    "    save_total_limit=3,\n",
    "    num_train_epochs=1,\n",
    "    predict_with_generate=True,\n",
    "    fp16=True,\n",
    "    load_best_model_at_end=True,\n",
    "    metric_for_best_model=\"rouge1\",\n",
    "    report_to=\"tensorboard\"\n",
    ")"
   ]
  },
  {
   "cell_type": "code",
   "execution_count": null,
   "id": "35e45ffd-a464-4d76-b923-2f8368f4cb38",
   "metadata": {},
   "outputs": [],
   "source": [
    "data_collator = DataCollatorForSeq2Seq(tokenizer)"
   ]
  },
  {
   "cell_type": "code",
   "execution_count": null,
   "id": "7278fa27-7eda-471e-aa3d-5eeaf74eb747",
   "metadata": {},
   "outputs": [],
   "source": [
    "metric = load_metric(\"rouge\")"
   ]
  },
  {
   "cell_type": "code",
   "execution_count": null,
   "id": "da650080-bff4-44eb-a66e-cd0ee1414577",
   "metadata": {},
   "outputs": [],
   "source": [
    "import numpy as np\n",
    "\n",
    "def compute_metrics(eval_pred):\n",
    "    predictions, labels = eval_pred\n",
    "    predictions = predictions.to_cpu()\n",
    "    decoded_preds = tokenizer.batch_decode(predictions, skip_special_tokens=True)\n",
    "    \n",
    "    # Replace -100 in the labels as we can't decode them.\n",
    "    labels = np.where(labels != -100, labels, tokenizer.pad_token_id)\n",
    "    decoded_labels = tokenizer.batch_decode(labels, skip_special_tokens=True)\n",
    "    \n",
    "    # Rouge expects a newline after each sentence\n",
    "    decoded_preds = [\"\\n\".join(nltk.sent_tokenize(pred.strip()))\n",
    "                      for pred in decoded_preds]\n",
    "    decoded_labels = [\"\\n\".join(nltk.sent_tokenize(label.strip())) \n",
    "                      for label in decoded_labels]\n",
    "    \n",
    "    # Compute ROUGE scores\n",
    "    result = metric.compute(predictions=decoded_preds, references=decoded_labels,\n",
    "                            use_stemmer=True)\n",
    "\n",
    "    # Extract ROUGE f1 scores\n",
    "    result = {key: value.mid.fmeasure * 100 for key, value in result.items()}\n",
    "    \n",
    "    # Add mean generated length to metrics\n",
    "    prediction_lens = [np.count_nonzero(pred != tokenizer.pad_token_id)\n",
    "                      for pred in predictions]\n",
    "    result[\"gen_len\"] = np.mean(prediction_lens)\n",
    "    \n",
    "    return {k: round(v, 4) for k, v in result.items()}"
   ]
  },
  {
   "cell_type": "code",
   "execution_count": null,
   "id": "dd56a648-9fe8-43bd-a30c-675791c8ddfe",
   "metadata": {},
   "outputs": [],
   "source": [
    "# Function that returns an untrained model to be trained\n",
    "def model_init():\n",
    "    return AutoModelForSeq2SeqLM.from_pretrained(model_checkpoint)\n",
    "\n",
    "trainer = Seq2SeqTrainer(\n",
    "    model_init=model_init,\n",
    "    args=args,\n",
    "    train_dataset=tokenized_datasets[\"train\"],\n",
    "    eval_dataset=tokenized_datasets[\"validation\"],\n",
    "    data_collator=data_collator,\n",
    "    tokenizer=tokenizer,\n",
    "    compute_metrics=compute_metrics\n",
    ")"
   ]
  },
  {
   "cell_type": "code",
   "execution_count": null,
   "id": "77101e72-20a6-462e-95c1-f0368c29f9e5",
   "metadata": {},
   "outputs": [],
   "source": [
    "# Start TensorBoard before training to monitor it in progress\n",
    "%load_ext tensorboard\n",
    "%tensorboard --logdir '{model_dir}'/runs"
   ]
  },
  {
   "cell_type": "code",
   "execution_count": null,
   "id": "532e22ed-813f-4499-95ba-229baca22186",
   "metadata": {
    "tags": []
   },
   "outputs": [],
   "source": [
    "trainer.train()"
   ]
  },
  {
   "cell_type": "code",
   "execution_count": null,
   "id": "85848111-a146-4219-a7b2-e21a10cc78f0",
   "metadata": {},
   "outputs": [],
   "source": []
  }
 ],
 "metadata": {
  "kernelspec": {
   "display_name": "Python 3 (ipykernel)",
   "language": "python",
   "name": "python3"
  },
  "language_info": {
   "codemirror_mode": {
    "name": "ipython",
    "version": 3
   },
   "file_extension": ".py",
   "mimetype": "text/x-python",
   "name": "python",
   "nbconvert_exporter": "python",
   "pygments_lexer": "ipython3",
   "version": "3.9.16"
  }
 },
 "nbformat": 4,
 "nbformat_minor": 5
}
