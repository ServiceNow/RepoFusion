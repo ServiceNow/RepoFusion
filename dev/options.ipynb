{
 "cells": [
  {
   "cell_type": "code",
   "execution_count": 1,
   "id": "ed1f7ecc-ff3e-4578-b21c-6c3028fa772f",
   "metadata": {},
   "outputs": [],
   "source": [
    "%load_ext autoreload\n",
    "%autoreload 2"
   ]
  },
  {
   "cell_type": "code",
   "execution_count": 2,
   "id": "a52864ee-4702-4816-ba4e-ebf47b70e58b",
   "metadata": {},
   "outputs": [],
   "source": [
    "import repo_training_codellm.FiD.src.options as options"
   ]
  },
  {
   "cell_type": "code",
   "execution_count": 3,
   "id": "5d032077-6f45-483d-b668-7b7f4c03672b",
   "metadata": {},
   "outputs": [],
   "source": [
    "opt_parser = options.Options()"
   ]
  },
  {
   "cell_type": "code",
   "execution_count": 5,
   "id": "6b76f666-0bf1-4e9f-abe6-bf3a2ed88a84",
   "metadata": {},
   "outputs": [],
   "source": [
    "opt = opt_parser.parse([\n",
    "    '--name', 'NAME',\n",
    "    '--checkpoint_dir', 'CHECKPOINT_DIR',\n",
    "    '--model_path', 'PER_GPU_BATCH_SIZE',\n",
    "    '--per_gpu_batch_size', '1',\n",
    "    '--maxload', '10',\n",
    "    '--local_rank', '0',\n",
    "    '--main_port', '8080',\n",
    "    '--seed', '42',\n",
    "    '--eval_freq', '1',\n",
    "    '--save_freq', '1',\n",
    "    '--eval_print_freq', '1',\n",
    "])"
   ]
  },
  {
   "cell_type": "code",
   "execution_count": 6,
   "id": "8070bd9c-dc4a-4a2a-96ff-d1e86e8951f8",
   "metadata": {},
   "outputs": [
    {
     "data": {
      "text/plain": [
       "Namespace(config=None, name='NAME', checkpoint_dir='CHECKPOINT_DIR', model_path='PER_GPU_BATCH_SIZE', per_gpu_batch_size=1, maxload=10, local_rank=0, main_port=8080, seed=42, eval_freq=1, save_freq=1, eval_print_freq=1)"
      ]
     },
     "execution_count": 6,
     "metadata": {},
     "output_type": "execute_result"
    }
   ],
   "source": [
    "opt"
   ]
  },
  {
   "cell_type": "code",
   "execution_count": 7,
   "id": "00a72d01-be12-4040-8fda-3f97b1d920d1",
   "metadata": {},
   "outputs": [],
   "source": [
    "opt_cfg = opt_parser.parse([\n",
    "    '--config', '/home/toolkit/code/repo_training_codellm/conf/test.yaml'\n",
    "])"
   ]
  },
  {
   "cell_type": "code",
   "execution_count": 8,
   "id": "d0375e42-4729-42f1-8767-1593a22bbb38",
   "metadata": {},
   "outputs": [
    {
     "data": {
      "text/plain": [
       "Namespace(config='/home/toolkit/code/repo_training_codellm/conf/test.yaml', name='NAME', checkpoint_dir='CHECKPOINT_DIR', model_path='PER_GPU_BATCH_SIZE', per_gpu_batch_size=1, maxload=10, local_rank=0, main_port=8080, seed=42, eval_freq=1, save_freq=1, eval_print_freq=1)"
      ]
     },
     "execution_count": 8,
     "metadata": {},
     "output_type": "execute_result"
    }
   ],
   "source": [
    "opt_cfg"
   ]
  },
  {
   "cell_type": "code",
   "execution_count": 9,
   "id": "ebeeae2a-9c28-4b7a-a19a-fd70f38dbfb6",
   "metadata": {},
   "outputs": [],
   "source": [
    "opt_cfg_override = opt_parser.parse([\n",
    "    '--config', '/home/toolkit/code/repo_training_codellm/conf/test.yaml',\n",
    "    '--name', 'NAME_1111',\n",
    "])"
   ]
  },
  {
   "cell_type": "code",
   "execution_count": 10,
   "id": "6196d460-0a2d-483f-b273-ba10782064e5",
   "metadata": {},
   "outputs": [
    {
     "data": {
      "text/plain": [
       "Namespace(config='/home/toolkit/code/repo_training_codellm/conf/test.yaml', name='NAME_1111', checkpoint_dir='CHECKPOINT_DIR', model_path='PER_GPU_BATCH_SIZE', per_gpu_batch_size=1, maxload=10, local_rank=0, main_port=8080, seed=42, eval_freq=1, save_freq=1, eval_print_freq=1)"
      ]
     },
     "execution_count": 10,
     "metadata": {},
     "output_type": "execute_result"
    }
   ],
   "source": [
    "opt_cfg_override"
   ]
  },
  {
   "cell_type": "code",
   "execution_count": null,
   "id": "dfd367da-9189-4def-ac6d-15fa148a71ee",
   "metadata": {},
   "outputs": [],
   "source": []
  }
 ],
 "metadata": {
  "kernelspec": {
   "display_name": "Python 3 (ipykernel)",
   "language": "python",
   "name": "python3"
  },
  "language_info": {
   "codemirror_mode": {
    "name": "ipython",
    "version": 3
   },
   "file_extension": ".py",
   "mimetype": "text/x-python",
   "name": "python",
   "nbconvert_exporter": "python",
   "pygments_lexer": "ipython3",
   "version": "3.9.16"
  }
 },
 "nbformat": 4,
 "nbformat_minor": 5
}
