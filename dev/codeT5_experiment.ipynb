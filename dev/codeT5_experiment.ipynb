{
 "cells": [
  {
   "cell_type": "code",
   "execution_count": 1,
   "id": "e3c628ca-dc1c-4083-8ffe-2b7596b5864b",
   "metadata": {},
   "outputs": [],
   "source": [
    "%load_ext autoreload\n",
    "%autoreload 2"
   ]
  },
  {
   "cell_type": "code",
   "execution_count": 2,
   "id": "c8e87442-7143-4faa-976e-c560d8cbbe6f",
   "metadata": {},
   "outputs": [],
   "source": [
    "import datasets\n",
    "import torch\n",
    "import random\n",
    "import json\n",
    "from tqdm.auto import tqdm\n",
    "import pandas as pd\n",
    "from pathlib import Path\n",
    "\n",
    "import transformers\n",
    "\n",
    "from transformers import AutoTokenizer\n",
    "from transformers import AutoModelForSeq2SeqLM, Seq2SeqTrainingArguments, Seq2SeqTrainer"
   ]
  },
  {
   "cell_type": "code",
   "execution_count": 3,
   "id": "fdd73cfc-8b4e-40e9-aecb-9261a782dc81",
   "metadata": {},
   "outputs": [],
   "source": [
    "# assumes PYTHONPATH is pointing to the root of the repo\n",
    "from codet5_finetune.options import options \n",
    "from codet5_finetune.data import DataCollatorNTP"
   ]
  },
  {
   "cell_type": "code",
   "execution_count": 4,
   "id": "5758ee40-7ef6-4ee3-8735-b4e59329e0d7",
   "metadata": {},
   "outputs": [
    {
     "name": "stdout",
     "output_type": "stream",
     "text": [
      "['/home/toolkit/.conda/envs/rlctx_p39/lib/python3.9/site-packages/ipykernel_launcher.py', '-f', '/home/toolkit/.local/share/jupyter/runtime/kernel-742d4361-7a46-4e8f-ba82-30495768691d.json']\n"
     ]
    }
   ],
   "source": [
    "# assumes current folder is <repo_root>/dev\n",
    "cwd =!pwd\n",
    "cwd = Path(cwd[0])\n",
    "opt = options({'common_config': cwd.parent / 'codet5_finetune/common_config.yaml'})"
   ]
  },
  {
   "cell_type": "code",
   "execution_count": 5,
   "id": "81415daf-e57b-432d-9104-898a2015798a",
   "metadata": {},
   "outputs": [
    {
     "data": {
      "text/plain": [
       "'/repo_data/the_stack11_dedup_alt_comments_no_1K_set_subset/data'"
      ]
     },
     "execution_count": 5,
     "metadata": {},
     "output_type": "execute_result"
    }
   ],
   "source": [
    "opt.path_java_filtered_subset"
   ]
  },
  {
   "cell_type": "code",
   "execution_count": 6,
   "id": "3a5b35b5-0d43-4263-81a7-c131e488a6ed",
   "metadata": {},
   "outputs": [],
   "source": [
    "ds = datasets.load_from_disk(opt.path_java_filtered_subset)"
   ]
  },
  {
   "cell_type": "code",
   "execution_count": 7,
   "id": "d2b3e6e0-e138-406f-8ed2-3c5b74fab055",
   "metadata": {},
   "outputs": [],
   "source": [
    "tokenizer = AutoTokenizer.from_pretrained(opt.base_model_name)"
   ]
  },
  {
   "cell_type": "code",
   "execution_count": 8,
   "id": "5f0f44b5-eed4-4916-809d-4b2116468c1e",
   "metadata": {},
   "outputs": [],
   "source": [
    "data_collator = DataCollatorNTP(\n",
    "    tokenizer,\n",
    "    min_encoder_seq_length=opt.min_encoder_seq_length,\n",
    "    min_decoder_seq_length=opt.min_decoder_seq_length,\n",
    "    encoder_seq_length=opt.encoder_seq_length,\n",
    "    decoder_seq_length=opt.decoder_seq_length\n",
    ")"
   ]
  },
  {
   "cell_type": "code",
   "execution_count": 9,
   "id": "3b2f4507-6219-4caa-897c-62d14bb2f652",
   "metadata": {},
   "outputs": [],
   "source": [
    "opt.model_dir_base = Path(opt.model_dir_base)\n",
    "model_dir = opt.model_dir_base  / opt.trained_model_name / opt.experiment_name\n",
    "\n",
    "args = Seq2SeqTrainingArguments(\n",
    "    model_dir,\n",
    "    # to have evaluations step, compute metrics and hav inputs in metrics function, for debug\n",
    "    evaluation_strategy=\"steps\",\n",
    "    eval_steps=100,\n",
    "    predict_with_generate=True,\n",
    "    include_inputs_for_metrics=True,\n",
    "\n",
    "    logging_strategy=opt.logging_strategy,\n",
    "    logging_steps=opt.logging_steps,\n",
    "    save_strategy=opt.save_strategy,\n",
    "    save_steps=opt.save_steps,\n",
    "    learning_rate=opt.learning_rate,# if would have been perfect 4e-6 and several epochs\n",
    "    per_device_train_batch_size=opt.per_device_train_batch_size,\n",
    "    per_device_eval_batch_size=opt.per_device_eval_batch_size,\n",
    "    weight_decay=opt.weight_decay,\n",
    "    save_total_limit=opt.save_total_limit,\n",
    "    num_train_epochs=opt.num_train_epochs,\n",
    "    fp16=opt.fp16,\n",
    "    load_best_model_at_end=False,\n",
    "    report_to=opt.report_to,\n",
    "    remove_unused_columns=False,\n",
    "    generation_max_length=opt.decoder_seq_length\n",
    ")"
   ]
  },
  {
   "cell_type": "code",
   "execution_count": 12,
   "id": "6ef8b45d-c73a-40c4-9512-6ac6659b73e1",
   "metadata": {},
   "outputs": [
    {
     "name": "stderr",
     "output_type": "stream",
     "text": [
      "loading configuration file config.json from cache at /home/toolkit/.cache/huggingface/hub/models--Salesforce--codet5-base/snapshots/4078456db09ba972a3532827a0b5df4da172323c/config.json\n",
      "Model config T5Config {\n",
      "  \"_name_or_path\": \"Salesforce/codet5-base\",\n",
      "  \"architectures\": [\n",
      "    \"T5ForConditionalGeneration\"\n",
      "  ],\n",
      "  \"bos_token_id\": 1,\n",
      "  \"d_ff\": 3072,\n",
      "  \"d_kv\": 64,\n",
      "  \"d_model\": 768,\n",
      "  \"decoder_start_token_id\": 0,\n",
      "  \"dense_act_fn\": \"relu\",\n",
      "  \"dropout_rate\": 0.1,\n",
      "  \"eos_token_id\": 2,\n",
      "  \"feed_forward_proj\": \"relu\",\n",
      "  \"gradient_checkpointing\": false,\n",
      "  \"id2label\": {\n",
      "    \"0\": \"LABEL_0\"\n",
      "  },\n",
      "  \"initializer_factor\": 1.0,\n",
      "  \"is_encoder_decoder\": true,\n",
      "  \"is_gated_act\": false,\n",
      "  \"label2id\": {\n",
      "    \"LABEL_0\": 0\n",
      "  },\n",
      "  \"layer_norm_epsilon\": 1e-06,\n",
      "  \"model_type\": \"t5\",\n",
      "  \"n_positions\": 512,\n",
      "  \"num_decoder_layers\": 12,\n",
      "  \"num_heads\": 12,\n",
      "  \"num_layers\": 12,\n",
      "  \"output_past\": true,\n",
      "  \"pad_token_id\": 0,\n",
      "  \"relative_attention_max_distance\": 128,\n",
      "  \"relative_attention_num_buckets\": 32,\n",
      "  \"task_specific_params\": {\n",
      "    \"summarization\": {\n",
      "      \"early_stopping\": true,\n",
      "      \"length_penalty\": 2.0,\n",
      "      \"max_length\": 200,\n",
      "      \"min_length\": 30,\n",
      "      \"no_repeat_ngram_size\": 3,\n",
      "      \"num_beams\": 4,\n",
      "      \"prefix\": \"summarize: \"\n",
      "    },\n",
      "    \"translation_en_to_de\": {\n",
      "      \"early_stopping\": true,\n",
      "      \"max_length\": 300,\n",
      "      \"num_beams\": 4,\n",
      "      \"prefix\": \"translate English to German: \"\n",
      "    },\n",
      "    \"translation_en_to_fr\": {\n",
      "      \"early_stopping\": true,\n",
      "      \"max_length\": 300,\n",
      "      \"num_beams\": 4,\n",
      "      \"prefix\": \"translate English to French: \"\n",
      "    },\n",
      "    \"translation_en_to_ro\": {\n",
      "      \"early_stopping\": true,\n",
      "      \"max_length\": 300,\n",
      "      \"num_beams\": 4,\n",
      "      \"prefix\": \"translate English to Romanian: \"\n",
      "    }\n",
      "  },\n",
      "  \"torch_dtype\": \"float32\",\n",
      "  \"transformers_version\": \"4.26.1\",\n",
      "  \"use_cache\": true,\n",
      "  \"vocab_size\": 32100\n",
      "}\n",
      "\n",
      "loading weights file pytorch_model.bin from cache at /home/toolkit/.cache/huggingface/hub/models--Salesforce--codet5-base/snapshots/4078456db09ba972a3532827a0b5df4da172323c/pytorch_model.bin\n",
      "Generate config GenerationConfig {\n",
      "  \"bos_token_id\": 1,\n",
      "  \"decoder_start_token_id\": 0,\n",
      "  \"eos_token_id\": 2,\n",
      "  \"pad_token_id\": 0,\n",
      "  \"transformers_version\": \"4.26.1\"\n",
      "}\n",
      "\n",
      "All model checkpoint weights were used when initializing T5ForConditionalGeneration.\n",
      "\n",
      "All the weights of T5ForConditionalGeneration were initialized from the model checkpoint at Salesforce/codet5-base.\n",
      "If your task is similar to the task the model of the checkpoint was trained on, you can already use T5ForConditionalGeneration for predictions without further training.\n",
      "Generation config file not found, using a generation config created from the model config.\n",
      "Using cuda_amp half precision backend\n"
     ]
    }
   ],
   "source": [
    "def model_init():\n",
    "    return AutoModelForSeq2SeqLM.from_pretrained(opt.base_model_name)\n",
    "\n",
    "# a hack to get prediction inputs for metrics without additional callbacks\n",
    "preds = None\n",
    "def assign_preds(x):\n",
    "    global preds\n",
    "    preds = x\n",
    "    return {'ha': 0}\n",
    "\n",
    "trainer = Seq2SeqTrainer(\n",
    "    model_init=model_init,\n",
    "    args=args,\n",
    "    train_dataset=ds['train'],\n",
    "    eval_dataset=ds['test'],\n",
    "    data_collator=data_collator,\n",
    "    tokenizer=tokenizer,\n",
    "    compute_metrics=assign_preds\n",
    ")"
   ]
  },
  {
   "cell_type": "code",
   "execution_count": 17,
   "id": "a8c780e2-3290-4f34-9541-e676f0f54833",
   "metadata": {},
   "outputs": [
    {
     "name": "stderr",
     "output_type": "stream",
     "text": [
      "***** Running Evaluation *****\n",
      "  Num examples = 8\n",
      "  Batch size = 8\n",
      "Token indices sequence length is longer than the specified maximum sequence length for this model (602 > 512). Running this sequence through the model will result in indexing errors\n",
      "You're using a RobertaTokenizerFast tokenizer. Please note that with a fast tokenizer, using the `__call__` method is faster than using a method to encode the text followed by a call to the `pad` method to get a padded encoding.\n",
      "Generate config GenerationConfig {\n",
      "  \"bos_token_id\": 1,\n",
      "  \"decoder_start_token_id\": 0,\n",
      "  \"eos_token_id\": 2,\n",
      "  \"pad_token_id\": 0,\n",
      "  \"transformers_version\": \"4.26.1\"\n",
      "}\n",
      "\n"
     ]
    },
    {
     "data": {
      "text/html": [
       "\n",
       "    <div>\n",
       "      \n",
       "      <progress value='1' max='1' style='width:300px; height:20px; vertical-align: middle;'></progress>\n",
       "      [1/1 : < :]\n",
       "    </div>\n",
       "    "
      ],
      "text/plain": [
       "<IPython.core.display.HTML object>"
      ]
     },
     "metadata": {},
     "output_type": "display_data"
    }
   ],
   "source": [
    "res = trainer.evaluate(ds['test'].select(range(8)))"
   ]
  },
  {
   "cell_type": "code",
   "execution_count": 27,
   "id": "f87ca069-da4b-4c4d-b264-22c804002736",
   "metadata": {},
   "outputs": [
    {
     "data": {
      "text/plain": [
       "{'size': 2237,\n",
       " 'lang': 'Java',\n",
       " 'max_stars_repo_path': 'clivia-assembly-base/clivia-httpClient-assembly-base/src/main/java/org/palading/clivia/httpClient/CliviaAbstractHttpRestTemplate.java',\n",
       " 'max_stars_repo_name': 'leeokdkpvv5c/UIUC-data-miningv',\n",
       " 'avg_line_length': 34.953125,\n",
       " 'max_line_length': 132,\n",
       " 'alphanum_fraction': 0.688869021,\n",
       " '__id__': 16948372,\n",
       " 'content': 'package org.palading.clivia.httpClient;\\r\\n\\r\\nimport org.palading.clivia.httpClient.request.CliviaHttpRequest;\\r\\nimport org.palading.clivia.httpClient.request.CliviaSyncHttpRequest;\\r\\nimport org.palading.clivia.httpClient.response.CliviaHttpResponse;\\r\\n\\r\\nimport java.util.List;\\r\\n\\r\\n\\r\\n\\r\\n/**\\r\\n * @author palading_cr\\r\\n * @title CliviaAbstractHttpRestTemplate\\r\\n * @project clivia-gateway\\r\\n */\\r\\npublic abstract class CliviaAbstractHttpRestTemplate {\\r\\n\\r\\n    private static List<HttpInterceptor> httpInterceptorList;\\r\\n\\r\\n    private CliviaSyncHttpRequest cliviaSyncHttpRequest;\\r\\n\\r\\n    public CliviaAbstractHttpRestTemplate(List<HttpInterceptor> httpInterceptorList, CliviaSyncHttpRequest cliviaSyncHttpRequest) {\\r\\n        this.httpInterceptorList = httpInterceptorList;\\r\\n        this.cliviaSyncHttpRequest = cliviaSyncHttpRequest;\\r\\n\\r\\n    }\\r\\n\\r\\n    /**\\r\\n     * When the requested interception method returns fasle, execute the request and perform post-processing\\r\\n     * \\r\\n     * @author palading_cr\\r\\n     *\\r\\n     */\\r\\n    public CliviaHttpResponse excute(CliviaHttpRequest cliviaHttpRequest) throws Exception {\\r\\n        CliviaHttpResponse cliviaHttpResponse = null;\\r\\n        if (Interceptor.interceptor(cliviaHttpRequest)) {\\r\\n            cliviaHttpResponse = cliviaSyncHttpRequest.execute(cliviaHttpRequest);\\r\\n            Interceptor.afterInterceptor(cliviaHttpRequest, cliviaHttpResponse);\\r\\n        }\\r\\n        return cliviaHttpResponse;\\r\\n    }\\r\\n\\r\\n    static class Interceptor {\\r\\n        private static boolean interceptor(CliviaHttpRequest cliviaHttpRequest) throws Exception {\\r\\n            boolean flag = true;\\r\\n            for (HttpInterceptor httpInterceptor : httpInterceptorList) {\\r\\n                if (!httpInterceptor.interceptor(cliviaHttpRequest)) {\\r\\n                    flag = false;\\r\\n                    break;\\r\\n                }\\r\\n            }\\r\\n            return flag;\\r\\n        }\\r\\n\\r\\n        private static void afterInterceptor(CliviaHttpRequest cliviaHttpRequest, CliviaHttpResponse cliviaHttpResponse)\\r\\n            throws Exception {\\r\\n            for (HttpInterceptor httpInterceptor : httpInterceptorList) {\\r\\n                httpInterceptor.afterInterceptor(cliviaHttpRequest, cliviaHttpResponse);\\r\\n            }\\r\\n        }\\r\\n    }\\r\\n\\r\\n}\\r\\n',\n",
       " 'nl_ratio': 0.1162270899}"
      ]
     },
     "execution_count": 27,
     "metadata": {},
     "output_type": "execute_result"
    }
   ],
   "source": [
    "ds['test'][0]"
   ]
  },
  {
   "cell_type": "code",
   "execution_count": 26,
   "id": "d9b9875a-72c9-4fd8-b288-8254f100a2f5",
   "metadata": {},
   "outputs": [
    {
     "data": {
      "text/plain": [
       "'<s>package org.palading.clivia.httpClient;\\r\\n\\r\\nimport org.palading.clivia.httpClient.request.CliviaHttpRequest;\\r\\nimport org.palading.clivia.httpClient.request.CliviaSyncHttpRequest;\\r\\nimport org.palading.clivia.httpClient.response.CliviaHttpResponse;\\r\\n\\r\\nimport java.util.List;\\r\\n\\r\\n\\r\\n\\r\\n/**\\r\\n * @author palading_cr\\r\\n</s><pad><pad><pad><pad><pad><pad><pad><pad><pad><pad><pad><pad><pad><pad><pad><pad><pad><pad><pad><pad><pad><pad><pad><pad><pad><pad><pad><pad><pad><pad><pad><pad><pad><pad><pad><pad><pad><pad><pad><pad><pad><pad><pad><pad><pad><pad><pad><pad><pad><pad><pad><pad><pad><pad><pad><pad><pad><pad><pad><pad><pad><pad><pad><pad><pad><pad><pad><pad><pad><pad><pad><pad><pad><pad><pad><pad><pad><pad><pad><pad><pad><pad><pad><pad><pad><pad><pad><pad><pad><pad><pad><pad><pad><pad><pad><pad><pad><pad><pad><pad><pad><pad><pad><pad><pad><pad><pad><pad><pad><pad><pad><pad><pad><pad><pad><pad><pad><pad><pad><pad><pad><pad><pad><pad><pad><pad><pad><pad><pad><pad><pad><pad><pad><pad><pad><pad><pad><pad><pad><pad><pad><pad><pad><pad><pad><pad><pad><pad><pad><pad><pad><pad><pad><pad><pad><pad><pad><pad><pad><pad><pad><pad><pad><pad><pad><pad><pad><pad><pad><pad><pad><pad><pad><pad><pad><pad><pad><pad><pad><pad><pad><pad><pad><pad><pad><pad><pad><pad><pad><pad><pad><pad><pad><pad><pad><pad><pad><pad><pad><pad><pad><pad><pad><pad><pad><pad><pad><pad><pad><pad><pad><pad><pad><pad><pad><pad><pad><pad><pad><pad><pad><pad><pad><pad><pad><pad><pad><pad><pad><pad><pad><pad><pad><pad><pad><pad><pad><pad><pad><pad><pad><pad><pad><pad><pad><pad><pad><pad><pad><pad><pad><pad><pad><pad><pad><pad><pad><pad><pad><pad><pad><pad><pad><pad><pad><pad><pad><pad><pad><pad><pad><pad><pad><pad><pad><pad><pad><pad><pad><pad><pad><pad><pad><pad><pad><pad><pad><pad><pad><pad><pad><pad><pad><pad><pad><pad><pad><pad><pad><pad><pad><pad><pad><pad><pad><pad><pad><pad><pad><pad><pad><pad><pad><pad><pad><pad><pad><pad><pad><pad><pad><pad><pad><pad><pad><pad><pad><pad><pad><pad><pad><pad><pad><pad><pad><pad><pad><pad><pad><pad><pad><pad><pad><pad><pad><pad><pad><pad><pad><pad><pad><pad><pad><pad><pad><pad><pad><pad><pad><pad><pad><pad><pad><pad><pad><pad><pad><pad><pad><pad><pad><pad><pad><pad><pad><pad><pad><pad><pad><pad><pad><pad><pad><pad><pad><pad><pad><pad><pad><pad><pad><pad><pad><pad><pad><pad><pad>'"
      ]
     },
     "execution_count": 26,
     "metadata": {},
     "output_type": "execute_result"
    }
   ],
   "source": [
    "tokenizer.decode(preds.inputs[0])"
   ]
  },
  {
   "cell_type": "code",
   "execution_count": 29,
   "id": "0f55fb7d-d016-48eb-bbc9-942a5582213e",
   "metadata": {},
   "outputs": [
    {
     "data": {
      "text/plain": [
       "'<s> * @title CliviaAbstractHttpRestTemplate\\r\\n * @project clivia-gateway\\r\\n */\\r\\npublic abstract class CliviaAbstractHttpRestTemplate {\\r\\n\\r\\n    private static List<HttpInterceptor> httpInterceptorList;\\r\\n\\r\\n    private CliviaSyncHttpRequest cliviaSyncHttpRequest;\\r\\n\\r\\n    public CliviaAbstractHttpRestTemplate(List<HttpInterceptor> httpInterceptorList, CliviaSyncHttpRequest cliviaSyncHttpRequest) {\\r\\n        this.httpInterceptorList = httpInterceptorList;\\r\\n        this.cliviaSyncHttpRequest = cliviaSyncHttpRequest;\\r\\n\\r\\n    }\\r\\n\\r\\n    /**\\r\\n     * When the requested interception method returns fasle, execute the request and perform post-processing\\r\\n     * \\r\\n     * @author palading_cr\\r\\n     *\\r\\n     */\\r\\n    public CliviaHttpResponse excute(CliviaHttpRequest cliviaHttpRequest) throws Exception {\\r\\n        CliviaHttpResponse cliviaHttpResponse = null;\\r\\n        if (Interceptor.interceptor(cliviaHttpRequest)) {\\r\\n            cliviaHttpResponse = cliviaSyncHttpRequest.execute(cliviaHttpRequest);\\r\\n            Interceptor.afterInterceptor(cliviaHttpRequest, cliviaHttpResponse);\\r\\n        }\\r\\n        return cliviaHttpResponse;\\r\\n    }\\r\\n\\r\\n    static class Interceptor {\\r\\n        private static boolean interceptor(CliviaHttpRequest cliviaHttpRequest) throws Exception {\\r\\n            boolean flag = true;\\r\\n            for (HttpInterceptor httpInterceptor : httpInterceptorList) {\\r\\n                if (!httpInterceptor.interceptor(cliviaHttpRequest)) {\\r\\n                    flag = false;\\r\\n                    break;\\r\\n                }\\r\\n            }\\r\\n            return flag;\\r\\n        }\\r\\n\\r\\n        private static void afterInterceptor(CliviaHttpRequest cliviaHttpRequest, CliviaHttpResponse cliviaHttpResponse)\\r\\n            throws Exception {\\r\\n            for (HttpInterceptor httpInterceptor : httpInterceptorList) {\\r\\n                httpInterceptor.afterInterceptor(cliviaHttpRequest, cliviaHttpResponse);\\r\\n            }\\r\\n        }\\r\\n    }\\r\\n\\r\\n}\\r\\n</s><pad><pad><pad><pad><pad><pad><pad><pad><pad><pad><pad><pad><pad><pad><pad><pad><pad><pad><pad><pad><pad><pad><pad>'"
      ]
     },
     "execution_count": 29,
     "metadata": {},
     "output_type": "execute_result"
    }
   ],
   "source": [
    "preds.label_ids[preds.label_ids == -100] = 0\n",
    "tokenizer.decode(preds.label_ids[0])"
   ]
  },
  {
   "cell_type": "code",
   "execution_count": 30,
   "id": "c96bd7b9-721f-472c-8c01-76a657655004",
   "metadata": {},
   "outputs": [
    {
     "data": {
      "text/plain": [
       "'<pad><s><extra_id_0>@since 1.0.0 */<extra_id_1>@since 1.0.0 */</s><pad><pad><pad><pad><pad><pad><pad><pad><pad><pad><pad><pad><pad><pad><pad><pad><pad><pad><pad><pad><pad><pad><pad><pad><pad><pad><pad><pad><pad><pad><pad><pad><pad><pad><pad><pad><pad><pad><pad><pad><pad><pad><pad><pad><pad><pad><pad><pad><pad><pad><pad><pad><pad><pad><pad><pad><pad><pad><pad><pad><pad><pad><pad><pad><pad><pad><pad><pad><pad><pad><pad><pad><pad><pad><pad><pad><pad><pad><pad><pad><pad><pad><pad><pad><pad><pad><pad><pad><pad><pad><pad><pad><pad><pad><pad><pad><pad><pad><pad><pad><pad><pad><pad><pad><pad><pad><pad><pad><pad><pad><pad><pad><pad><pad><pad><pad><pad><pad><pad><pad><pad><pad><pad><pad><pad><pad><pad><pad><pad><pad><pad><pad><pad><pad><pad><pad><pad><pad><pad><pad><pad><pad><pad><pad><pad><pad><pad><pad><pad><pad><pad><pad><pad><pad><pad><pad><pad><pad><pad><pad><pad><pad><pad><pad><pad><pad><pad><pad><pad><pad><pad><pad><pad><pad><pad><pad><pad><pad><pad><pad><pad><pad><pad><pad><pad><pad><pad><pad><pad><pad><pad><pad><pad><pad><pad><pad><pad><pad><pad><pad><pad><pad><pad><pad><pad><pad><pad><pad><pad><pad><pad><pad><pad><pad><pad><pad><pad><pad><pad><pad><pad><pad><pad><pad><pad><pad><pad><pad><pad><pad><pad><pad><pad><pad><pad><pad><pad><pad><pad><pad><pad><pad><pad><pad><pad><pad><pad><pad><pad><pad><pad><pad><pad><pad><pad><pad><pad><pad><pad><pad><pad><pad><pad><pad><pad><pad><pad><pad><pad><pad><pad><pad><pad><pad><pad><pad><pad><pad><pad><pad><pad><pad><pad><pad><pad><pad><pad><pad><pad><pad><pad><pad><pad><pad><pad><pad><pad><pad><pad><pad><pad><pad><pad><pad><pad><pad><pad><pad><pad><pad><pad><pad><pad><pad><pad><pad><pad><pad><pad><pad><pad><pad><pad><pad><pad><pad><pad><pad><pad><pad><pad><pad><pad><pad><pad><pad><pad><pad><pad><pad><pad><pad><pad><pad><pad><pad><pad><pad><pad><pad><pad><pad><pad><pad><pad><pad><pad><pad><pad><pad><pad><pad><pad><pad><pad><pad><pad><pad><pad><pad><pad><pad><pad><pad><pad><pad><pad><pad><pad><pad><pad><pad><pad><pad><pad><pad><pad><pad><pad><pad><pad><pad><pad><pad><pad><pad><pad><pad><pad><pad><pad><pad><pad><pad><pad><pad><pad><pad><pad><pad><pad><pad><pad><pad><pad><pad><pad><pad><pad><pad><pad><pad><pad><pad><pad><pad><pad><pad><pad><pad><pad><pad><pad><pad><pad><pad><pad><pad><pad><pad><pad><pad><pad><pad><pad><pad><pad><pad><pad><pad><pad><pad><pad><pad><pad><pad><pad><pad><pad><pad><pad><pad><pad><pad><pad><pad><pad><pad><pad><pad><pad><pad><pad><pad><pad><pad><pad><pad><pad><pad><pad><pad><pad><pad><pad><pad><pad><pad><pad><pad><pad>'"
      ]
     },
     "execution_count": 30,
     "metadata": {},
     "output_type": "execute_result"
    }
   ],
   "source": [
    "tokenizer.decode(preds.predictions[0])"
   ]
  }
 ],
 "metadata": {
  "kernelspec": {
   "display_name": "Python 3 (ipykernel)",
   "language": "python",
   "name": "python3"
  },
  "language_info": {
   "codemirror_mode": {
    "name": "ipython",
    "version": 3
   },
   "file_extension": ".py",
   "mimetype": "text/x-python",
   "name": "python",
   "nbconvert_exporter": "python",
   "pygments_lexer": "ipython3",
   "version": "3.9.16"
  }
 },
 "nbformat": 4,
 "nbformat_minor": 5
}
