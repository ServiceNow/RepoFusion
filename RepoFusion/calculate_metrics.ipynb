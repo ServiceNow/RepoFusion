{
 "cells": [
  {
   "attachments": {},
   "cell_type": "markdown",
   "metadata": {},
   "source": [
    "#### The code to evaluate completion success rate."
   ]
  },
  {
   "cell_type": "code",
   "execution_count": 2,
   "metadata": {},
   "outputs": [
    {
     "name": "stdout",
     "output_type": "stream",
     "text": [
      "debug_no-truncation-codex-last: 2/2, EM=100.0, Unique Holes=2\n"
     ]
    }
   ],
   "source": [
    "# Copyright (c) ServiceNow and its affiliates.\n",
    "# All rights reserved.\n",
    "# \n",
    "# This source code is licensed under the license found in the\n",
    "# LICENSE file in the root directory of this source tree.\n",
    "import os\n",
    "import json\n",
    "import editdistance\n",
    "\n",
    "def em_code(prediction, ground_truth):\n",
    "    gt = ground_truth.strip()\n",
    "    lines = prediction.splitlines()\n",
    "    if len(lines) == 0:\n",
    "        if gt == \"\":\n",
    "            return True\n",
    "        else:\n",
    "            return False\n",
    "    pred = lines[0].strip()\n",
    "    return pred == gt\n",
    "\n",
    "base_dir = '../../outputs/'\n",
    "\n",
    "experiments = os.listdir(base_dir)\n",
    "for exp in experiments:\n",
    "    success = 0\n",
    "    edit_dists = 0\n",
    "    len_holes = 0\n",
    "    total = 0\n",
    "    hole_success = {}\n",
    "    result_file = os.path.join(base_dir, exp, 'final_output.jsonl')\n",
    "    if os.path.exists(result_file):\n",
    "        with open(result_file, 'r') as f:\n",
    "            data = json.load(f)\n",
    "            for entry in data:\n",
    "                hole_id = entry['id']\n",
    "                if hole_id not in hole_success:\n",
    "                    outcome = em_code(entry['prediction'], entry['target'])\n",
    "                    hole_success[hole_id] = outcome\n",
    "                    if outcome:\n",
    "                        success += 1\n",
    "                    total += 1\n",
    "            if total != 0:\n",
    "                print(f\"{exp}: {success}/{total}, EM={success*100/total}, Unique Holes={len(hole_success)}\") "
   ]
  }
 ],
 "metadata": {
  "kernelspec": {
   "display_name": "Python 3.10.9 ('repo_training': conda)",
   "language": "python",
   "name": "python3"
  },
  "language_info": {
   "codemirror_mode": {
    "name": "ipython",
    "version": 3
   },
   "file_extension": ".py",
   "mimetype": "text/x-python",
   "name": "python",
   "nbconvert_exporter": "python",
   "pygments_lexer": "ipython3",
   "version": "3.10.9"
  },
  "orig_nbformat": 4,
  "vscode": {
   "interpreter": {
    "hash": "49e378f172a8b46bf57800d0ac0bac4fc1e6ce253c9f8cab86c0c50488e70be3"
   }
  }
 },
 "nbformat": 4,
 "nbformat_minor": 2
}
